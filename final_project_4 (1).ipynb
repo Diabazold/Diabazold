{
 "cells": [
  {
   "cell_type": "code",
   "execution_count": 59,
   "metadata": {
    "scrolled": true
   },
   "outputs": [],
   "source": [
    "import requests\n",
    "from urllib.parse import urlencode\n",
    "import pandas as pd\n",
    "import seaborn as sns\n",
    "import numpy as np\n",
    "import matplotlib.pyplot as plt\n",
    "from tqdm.auto import tqdm\n",
    "from scipy import stats\n",
    "from statsmodels.stats.weightstats import ztest as ztest\n",
    "from scipy.stats import chi2_contingency, chi2\n",
    "\n",
    "import scipy\n",
    "\n",
    "from scipy.stats import norm"
   ]
  },
  {
   "cell_type": "code",
   "execution_count": 60,
   "metadata": {},
   "outputs": [],
   "source": [
    "# Подгрузим фунцию бутсрапа она нам еще пригодится"
   ]
  },
  {
   "cell_type": "code",
   "execution_count": 61,
   "metadata": {},
   "outputs": [],
   "source": [
    "def get_bootstrap(\n",
    "    data_column_1,  # числовые значения первой выборки\n",
    "    data_column_2,  # числовые значения второй выборки\n",
    "    boot_it=1000,  # количество бутстрэп-подвыборок\n",
    "    statistic=np.mean,  # интересующая нас статистика\n",
    "    bootstrap_conf_level=0.95,  # уровень значимости\n",
    "):\n",
    "    boot_len = max([len(data_column_1), len(data_column_2)])\n",
    "    boot_data = []\n",
    "    for i in tqdm(range(boot_it)):  # извлекаем подвыборки\n",
    "        samples_1 = data_column_1.sample(\n",
    "            boot_len, replace=True  # параметр возвращения\n",
    "        ).values\n",
    "\n",
    "        samples_2 = data_column_2.sample(\n",
    "            boot_len,  # чтобы сохранить дисперсию, берем такой же размер выборки\n",
    "            replace=True,\n",
    "        ).values\n",
    "\n",
    "        boot_data.append(statistic(samples_1 - samples_2))\n",
    "    pd_boot_data = pd.DataFrame(boot_data)\n",
    "\n",
    "    left_quant = (1 - bootstrap_conf_level) / 2\n",
    "    right_quant = 1 - (1 - bootstrap_conf_level) / 2\n",
    "    quants = pd_boot_data.quantile([left_quant, right_quant])\n",
    "\n",
    "    p_1 = norm.cdf(x=0, loc=np.mean(boot_data), scale=np.std(boot_data))\n",
    "    p_2 = norm.cdf(x=0, loc=-np.mean(boot_data), scale=np.std(boot_data))\n",
    "    p_value = min(p_1, p_2) * 2\n",
    "\n",
    "    # Визуализация\n",
    "    _, _, bars = plt.hist(pd_boot_data[0], bins=50)\n",
    "    for bar in bars:\n",
    "        if (\n",
    "            abs(bar.get_x()) <= quants.iloc[0][0]\n",
    "            or abs(bar.get_x()) >= quants.iloc[1][0]\n",
    "        ):\n",
    "            bar.set_facecolor(\"red\")\n",
    "        else:\n",
    "            bar.set_facecolor(\"grey\")\n",
    "            bar.set_edgecolor(\"black\")\n",
    "\n",
    "    plt.style.use(\"ggplot\")\n",
    "    plt.vlines(quants, ymin=0, ymax=50, linestyle=\"--\")\n",
    "    plt.xlabel(\"boot_data\")\n",
    "    plt.ylabel(\"frequency\")\n",
    "    plt.title(\"Histogram of boot_data\")\n",
    "    plt.show()\n",
    "\n",
    "    if p_value < 0.05:\n",
    "        print(\"отвергаем нулевую гипотезу\")\n",
    "    else:\n",
    "        print(\"принимаем нулевую гипотезу\")\n",
    "\n",
    "    return {\"quants\": quants, \"p_value\": p_value}"
   ]
  },
  {
   "cell_type": "code",
   "execution_count": 62,
   "metadata": {},
   "outputs": [],
   "source": [
    "# выгружаем данные\n",
    "base_url = 'https://cloud-api.yandex.net/v1/disk/public/resources/download?'\n",
    "active_users_url = 'https://disk.yandex.ru/d/B4QnY5D5EtKa-A' \n",
    "groups_url = 'https://disk.yandex.ru/d/jP_BAw_oxS3law'\n",
    "purchases_url = 'https://disk.yandex.ru/d/AmucCdboEaowhA'\n",
    "\n",
    "final_url = base_url + urlencode(dict(public_key=active_users_url))\n",
    "response = requests.get(final_url)\n",
    "download_url = response.json()['href']\n",
    "active_users = pd.read_csv(download_url) # информация о пользователях, которые посещали приложение во время эксперимента. \n",
    "\n",
    "final_url = base_url + urlencode(dict(public_key=groups_url))\n",
    "response = requests.get(final_url)\n",
    "download_url = response.json()['href']\n",
    "groups = pd.read_csv(download_url) # разбивка пользователей на контрольную (А) и тестовую (В) группы.\n",
    "\n",
    "final_url = base_url + urlencode(dict(public_key=purchases_url))\n",
    "response = requests.get(final_url)\n",
    "download_url = response.json()['href']\n",
    "purchases = pd.read_csv(download_url) # данные о транзакциях (оплатах) пользователей приложения во время эксперимента"
   ]
  },
  {
   "cell_type": "code",
   "execution_count": 63,
   "metadata": {},
   "outputs": [
    {
     "data": {
      "text/plain": [
       "541"
      ]
     },
     "execution_count": 63,
     "metadata": {},
     "output_type": "execute_result"
    }
   ],
   "source": [
    "purchases[purchases[\"user_id\"].isin(groups.user_id)].user_id.count()# все пользователи разбиты на группы"
   ]
  },
  {
   "cell_type": "code",
   "execution_count": 64,
   "metadata": {},
   "outputs": [
    {
     "data": {
      "text/plain": [
       "392"
      ]
     },
     "execution_count": 64,
     "metadata": {},
     "output_type": "execute_result"
    }
   ],
   "source": [
    "purchases[purchases[\"user_id\"].isin(active_users.user_id)].user_id.count()  \n",
    "# но по 149 пользователям нет данных, кроме суммы вырчуки"
   ]
  },
  {
   "cell_type": "code",
   "execution_count": 65,
   "metadata": {},
   "outputs": [
    {
     "data": {
      "text/plain": [
       "541"
      ]
     },
     "execution_count": 65,
     "metadata": {},
     "output_type": "execute_result"
    }
   ],
   "source": [
    "purchases[purchases[\"user_id\"].isin(groups.user_id)].user_id.count()  # но всем пользователям присвоена группа"
   ]
  },
  {
   "cell_type": "code",
   "execution_count": 66,
   "metadata": {},
   "outputs": [],
   "source": [
    "missing_out = purchases.merge(groups, left_on='user_id', right_on='user_id')\n",
    "missing_out = missing_out[~missing_out.user_id.isin(active_users.user_id)] \n",
    "# посмотрим на всех не попавших в активные пользователей"
   ]
  },
  {
   "cell_type": "code",
   "execution_count": 138,
   "metadata": {},
   "outputs": [
    {
     "data": {
      "text/html": [
       "<div>\n",
       "<style scoped>\n",
       "    .dataframe tbody tr th:only-of-type {\n",
       "        vertical-align: middle;\n",
       "    }\n",
       "\n",
       "    .dataframe tbody tr th {\n",
       "        vertical-align: top;\n",
       "    }\n",
       "\n",
       "    .dataframe thead th {\n",
       "        text-align: right;\n",
       "    }\n",
       "</style>\n",
       "<table border=\"1\" class=\"dataframe\">\n",
       "  <thead>\n",
       "    <tr style=\"text-align: right;\">\n",
       "      <th></th>\n",
       "      <th>user_id</th>\n",
       "      <th>revenue</th>\n",
       "      <th>group</th>\n",
       "    </tr>\n",
       "  </thead>\n",
       "  <tbody>\n",
       "    <tr>\n",
       "      <th>1</th>\n",
       "      <td>9000</td>\n",
       "      <td>701.0</td>\n",
       "      <td>B</td>\n",
       "    </tr>\n",
       "    <tr>\n",
       "      <th>2</th>\n",
       "      <td>9001</td>\n",
       "      <td>700.0</td>\n",
       "      <td>B</td>\n",
       "    </tr>\n",
       "    <tr>\n",
       "      <th>3</th>\n",
       "      <td>9002</td>\n",
       "      <td>702.0</td>\n",
       "      <td>B</td>\n",
       "    </tr>\n",
       "    <tr>\n",
       "      <th>5</th>\n",
       "      <td>9003</td>\n",
       "      <td>641.0</td>\n",
       "      <td>B</td>\n",
       "    </tr>\n",
       "    <tr>\n",
       "      <th>6</th>\n",
       "      <td>9004</td>\n",
       "      <td>590.0</td>\n",
       "      <td>B</td>\n",
       "    </tr>\n",
       "    <tr>\n",
       "      <th>...</th>\n",
       "      <td>...</td>\n",
       "      <td>...</td>\n",
       "      <td>...</td>\n",
       "    </tr>\n",
       "    <tr>\n",
       "      <th>508</th>\n",
       "      <td>9144</td>\n",
       "      <td>209.0</td>\n",
       "      <td>B</td>\n",
       "    </tr>\n",
       "    <tr>\n",
       "      <th>512</th>\n",
       "      <td>9145</td>\n",
       "      <td>301.0</td>\n",
       "      <td>B</td>\n",
       "    </tr>\n",
       "    <tr>\n",
       "      <th>521</th>\n",
       "      <td>9146</td>\n",
       "      <td>207.0</td>\n",
       "      <td>B</td>\n",
       "    </tr>\n",
       "    <tr>\n",
       "      <th>530</th>\n",
       "      <td>9147</td>\n",
       "      <td>408.0</td>\n",
       "      <td>B</td>\n",
       "    </tr>\n",
       "    <tr>\n",
       "      <th>534</th>\n",
       "      <td>9148</td>\n",
       "      <td>1910.0</td>\n",
       "      <td>B</td>\n",
       "    </tr>\n",
       "  </tbody>\n",
       "</table>\n",
       "<p>149 rows × 3 columns</p>\n",
       "</div>"
      ],
      "text/plain": [
       "     user_id  revenue group\n",
       "1       9000    701.0     B\n",
       "2       9001    700.0     B\n",
       "3       9002    702.0     B\n",
       "5       9003    641.0     B\n",
       "6       9004    590.0     B\n",
       "..       ...      ...   ...\n",
       "508     9144    209.0     B\n",
       "512     9145    301.0     B\n",
       "521     9146    207.0     B\n",
       "530     9147    408.0     B\n",
       "534     9148   1910.0     B\n",
       "\n",
       "[149 rows x 3 columns]"
      ]
     },
     "execution_count": 138,
     "metadata": {},
     "output_type": "execute_result"
    }
   ],
   "source": [
    "missing_out"
   ]
  },
  {
   "cell_type": "code",
   "execution_count": 67,
   "metadata": {},
   "outputs": [],
   "source": [
    "data = active_users.merge(groups, left_on='user_id', right_on='user_id')\n",
    "data2 = data.merge(purchases, on='user_id', how='left')\n",
    "data2 = data2.fillna(0)\n",
    "# собираем датасет пользователей посещавших наше приложение"
   ]
  },
  {
   "cell_type": "code",
   "execution_count": 68,
   "metadata": {},
   "outputs": [],
   "source": [
    "data2['segment'] = data2.country + ' ' + data2.platform + ' ' + data2.sex\n",
    "data2['CR'] = data2.revenue\n",
    "data2.loc[data2.revenue > 0, 'CR'] = 1\n",
    "# создадим дополнительные колонки для удобства работы с данными.(я так же проверял данные на нули,\n",
    "# дупликаты, никаких отклонений)"
   ]
  },
  {
   "cell_type": "code",
   "execution_count": 69,
   "metadata": {},
   "outputs": [
    {
     "data": {
      "text/plain": [
       "-485.04908574167916"
      ]
     },
     "execution_count": 69,
     "metadata": {},
     "output_type": "execute_result"
    }
   ],
   "source": [
    "missing_out.revenue.mean() - data2[data2['revenue'] > 0].revenue.mean() \n",
    "# средняя у не заходивших в приложение ниже"
   ]
  },
  {
   "cell_type": "code",
   "execution_count": 70,
   "metadata": {},
   "outputs": [
    {
     "data": {
      "text/plain": [
       "-300.0"
      ]
     },
     "execution_count": 70,
     "metadata": {},
     "output_type": "execute_result"
    }
   ],
   "source": [
    "missing_out.revenue.median() - data2[data2['revenue'] > 0].revenue.median() \n",
    "# медиана у не заходивших в приложение ниже"
   ]
  },
  {
   "cell_type": "code",
   "execution_count": 71,
   "metadata": {},
   "outputs": [
    {
     "data": {
      "text/plain": [
       "-539.025796178344"
      ]
     },
     "execution_count": 71,
     "metadata": {},
     "output_type": "execute_result"
    }
   ],
   "source": [
    "missing_out[missing_out['group'] == 'B'].revenue.mean() - \\\n",
    "data2[(data2['group'] == 'B') & data2['revenue'] > 0 ].revenue.mean()\n",
    "# средняя у не заходивших в приложение в группе В ниже"
   ]
  },
  {
   "cell_type": "code",
   "execution_count": 72,
   "metadata": {},
   "outputs": [
    {
     "data": {
      "text/plain": [
       "-451.0"
      ]
     },
     "execution_count": 72,
     "metadata": {},
     "output_type": "execute_result"
    }
   ],
   "source": [
    "missing_out[missing_out['group'] == 'B'].revenue.median() - \\\n",
    "data2[(data2['group'] == 'B') & data2['revenue'] > 0 ].revenue.median()\n",
    "# медиана у не заходивших в приложение в группе В ниже"
   ]
  },
  {
   "cell_type": "code",
   "execution_count": 73,
   "metadata": {
    "scrolled": true
   },
   "outputs": [
    {
     "data": {
      "text/plain": [
       "-268.9434129089301"
      ]
     },
     "execution_count": 73,
     "metadata": {},
     "output_type": "execute_result"
    }
   ],
   "source": [
    "missing_out[missing_out['group'] == 'A'].revenue.mean() - \\\n",
    "data2[(data2['group'] == 'A') & data2['revenue'] > 0 ].revenue.mean()\n",
    "# средняя у не заходивших в приложение в группе В ниже"
   ]
  },
  {
   "cell_type": "code",
   "execution_count": 74,
   "metadata": {},
   "outputs": [
    {
     "data": {
      "text/plain": [
       "104.0"
      ]
     },
     "execution_count": 74,
     "metadata": {},
     "output_type": "execute_result"
    }
   ],
   "source": [
    "missing_out[missing_out['group'] == 'A'].revenue.median() - \\\n",
    "data2[(data2['group'] == 'A') & data2['revenue'] > 0 ].revenue.median()\n",
    "# медиана у не заходивших в приложение в группе А выше"
   ]
  },
  {
   "cell_type": "code",
   "execution_count": 196,
   "metadata": {},
   "outputs": [
    {
     "name": "stderr",
     "output_type": "stream",
     "text": [
      "/opt/tljh/user/lib/python3.7/site-packages/seaborn/distributions.py:2557: FutureWarning: `distplot` is a deprecated function and will be removed in a future version. Please adapt your code to use either `displot` (a figure-level function with similar flexibility) or `histplot` (an axes-level function for histograms).\n",
      "  warnings.warn(msg, FutureWarning)\n"
     ]
    },
    {
     "data": {
      "text/plain": [
       "<matplotlib.axes._subplots.AxesSubplot at 0x7faabe4c1fd0>"
      ]
     },
     "execution_count": 196,
     "metadata": {},
     "output_type": "execute_result"
    },
    {
     "data": {
      "image/png": "[encoded data removed]",
      "text/plain": [
       "<Figure size 432x288 with 1 Axes>"
      ]
     },
     "metadata": {},
     "output_type": "display_data"
    }
   ],
   "source": [
    "sns.distplot(missing_out[missing_out['group'] == 'A'].revenue, kde=False);\\\n",
    "sns.distplot(missing_out[(missing_out['group'] == 'B')].revenue, kde=False)"
   ]
  },
  {
   "cell_type": "code",
   "execution_count": 75,
   "metadata": {},
   "outputs": [
    {
     "name": "stderr",
     "output_type": "stream",
     "text": [
      "/opt/tljh/user/lib/python3.7/site-packages/seaborn/distributions.py:2557: FutureWarning: `distplot` is a deprecated function and will be removed in a future version. Please adapt your code to use either `displot` (a figure-level function with similar flexibility) or `histplot` (an axes-level function for histograms).\n",
      "  warnings.warn(msg, FutureWarning)\n",
      "/opt/tljh/user/lib/python3.7/site-packages/seaborn/distributions.py:2557: FutureWarning: `distplot` is a deprecated function and will be removed in a future version. Please adapt your code to use either `displot` (a figure-level function with similar flexibility) or `histplot` (an axes-level function for histograms).\n",
      "  warnings.warn(msg, FutureWarning)\n"
     ]
    },
    {
     "data": {
      "image/png": "[encoded data removed]",
      "text/plain": [
       "<Figure size 432x288 with 1 Axes>"
      ]
     },
     "metadata": {},
     "output_type": "display_data"
    }
   ],
   "source": [
    "sns.distplot(missing_out.revenue, kde=False); sns.distplot(data2[data2['revenue'] > 0 ].revenue, kde=False);"
   ]
  },
  {
   "cell_type": "code",
   "execution_count": 76,
   "metadata": {
    "scrolled": true
   },
   "outputs": [
    {
     "name": "stderr",
     "output_type": "stream",
     "text": [
      "/opt/tljh/user/lib/python3.7/site-packages/seaborn/distributions.py:2557: FutureWarning: `distplot` is a deprecated function and will be removed in a future version. Please adapt your code to use either `displot` (a figure-level function with similar flexibility) or `histplot` (an axes-level function for histograms).\n",
      "  warnings.warn(msg, FutureWarning)\n"
     ]
    },
    {
     "data": {
      "text/plain": [
       "<matplotlib.axes._subplots.AxesSubplot at 0x7faabdf53e80>"
      ]
     },
     "execution_count": 76,
     "metadata": {},
     "output_type": "execute_result"
    },
    {
     "data": {
      "image/png": "[encoded data removed]",
      "text/plain": [
       "<Figure size 432x288 with 1 Axes>"
      ]
     },
     "metadata": {},
     "output_type": "display_data"
    }
   ],
   "source": [
    "sns.distplot(missing_out[missing_out['group'] == 'A'].revenue, kde=False); sns.distplot(data2[(data2['group'] == 'A') & data2['revenue'] > 0 ].revenue, kde=False)"
   ]
  },
  {
   "cell_type": "code",
   "execution_count": 77,
   "metadata": {
    "scrolled": true
   },
   "outputs": [
    {
     "name": "stderr",
     "output_type": "stream",
     "text": [
      "/opt/tljh/user/lib/python3.7/site-packages/seaborn/distributions.py:2557: FutureWarning: `distplot` is a deprecated function and will be removed in a future version. Please adapt your code to use either `displot` (a figure-level function with similar flexibility) or `histplot` (an axes-level function for histograms).\n",
      "  warnings.warn(msg, FutureWarning)\n"
     ]
    },
    {
     "data": {
      "image/png": "[encoded data removed]",
      "text/plain": [
       "<Figure size 432x288 with 1 Axes>"
      ]
     },
     "metadata": {},
     "output_type": "display_data"
    }
   ],
   "source": [
    "sns.distplot(missing_out[missing_out['group'] == 'B'].revenue, kde=False);\\\n",
    "sns.distplot(data2[(data2['group'] == 'B') & data2['revenue'] > 0 ].revenue, kde=False);"
   ]
  },
  {
   "cell_type": "code",
   "execution_count": 78,
   "metadata": {},
   "outputs": [],
   "source": [
    "# чеки у не заходивших в приложение в среднем заметно ниже, чем у заходивших"
   ]
  },
  {
   "cell_type": "code",
   "execution_count": 79,
   "metadata": {},
   "outputs": [
    {
     "name": "stdout",
     "output_type": "stream",
     "text": [
      "Отклонить гипотезу о нормальности\n"
     ]
    }
   ],
   "source": [
    "stat, p = scipy.stats.shapiro(missing_out.revenue) # тест Шапиро-Уилк \n",
    "alpha = 0.05\n",
    "if p > alpha:\n",
    "    print('Принять гипотезу о нормальности')\n",
    "else:\n",
    "    print('Отклонить гипотезу о нормальности')"
   ]
  },
  {
   "cell_type": "code",
   "execution_count": 80,
   "metadata": {},
   "outputs": [
    {
     "name": "stdout",
     "output_type": "stream",
     "text": [
      "Отклонить гипотезу о нормальности\n"
     ]
    }
   ],
   "source": [
    "stat, p = scipy.stats.normaltest(missing_out.revenue) # Критерий согласия Пирсона\n",
    "\n",
    "if p > alpha:\n",
    "    print('Принять гипотезу о нормальности')\n",
    "else:\n",
    "    print('Отклонить гипотезу о нормальности')"
   ]
  },
  {
   "cell_type": "code",
   "execution_count": 81,
   "metadata": {
    "scrolled": true
   },
   "outputs": [
    {
     "data": {
      "text/plain": [
       "<matplotlib.axes._subplots.AxesSubplot at 0x7faabddef048>"
      ]
     },
     "execution_count": 81,
     "metadata": {},
     "output_type": "execute_result"
    },
    {
     "data": {
      "image/png": "[encoded data removed]",
      "text/plain": [
       "<Figure size 432x288 with 1 Axes>"
      ]
     },
     "metadata": {},
     "output_type": "display_data"
    }
   ],
   "source": [
    "sns.boxplot(x=\"group\", y=\"revenue\", data=missing_out)\n",
    "# видим разницу в поведении групп, среди пользователей не посещавших приложение"
   ]
  },
  {
   "cell_type": "code",
   "execution_count": 195,
   "metadata": {},
   "outputs": [
    {
     "data": {
      "application/vnd.jupyter.widget-view+json": {
       "model_id": "8d0e513665524ecfa4a5aaed7ce0f34c",
       "version_major": 2,
       "version_minor": 0
      },
      "text/plain": [
       "HBox(children=(FloatProgress(value=0.0, max=1000.0), HTML(value='')))"
      ]
     },
     "metadata": {},
     "output_type": "display_data"
    },
    {
     "name": "stdout",
     "output_type": "stream",
     "text": [
      "\n"
     ]
    },
    {
     "data": {
      "image/png": "[encoded data removed]",
      "text/plain": [
       "<Figure size 432x288 with 1 Axes>"
      ]
     },
     "metadata": {},
     "output_type": "display_data"
    },
    {
     "name": "stdout",
     "output_type": "stream",
     "text": [
      "принимаем нулевую гипотезу\n"
     ]
    },
    {
     "data": {
      "text/plain": [
       "{'quants':                 0\n",
       " 0.025  -41.909583\n",
       " 0.975  144.795208,\n",
       " 'p_value': 0.2771063185761645}"
      ]
     },
     "execution_count": 195,
     "metadata": {},
     "output_type": "execute_result"
    }
   ],
   "source": [
    "get_bootstrap(missing_out[missing_out['group'] == 'B'].revenue, missing_out[missing_out['group'] == 'A'].revenue) \n",
    "# так как распределение не нормальное проверим, что средний чек пользователей по группам одинаков\n",
    "# среди пользователей не заходивших в наше приложение"
   ]
  },
  {
   "cell_type": "code",
   "execution_count": 86,
   "metadata": {},
   "outputs": [],
   "source": [
    "# видим, что нет статисчтической разницы в средних чеках между 2 группами среди людей не заходивших в наше приложение"
   ]
  },
  {
   "cell_type": "code",
   "execution_count": 87,
   "metadata": {},
   "outputs": [
    {
     "data": {
      "application/vnd.jupyter.widget-view+json": {
       "model_id": "b204740197a246a4919c9a44a69dddd5",
       "version_major": 2,
       "version_minor": 0
      },
      "text/plain": [
       "HBox(children=(FloatProgress(value=0.0, max=1000.0), HTML(value='')))"
      ]
     },
     "metadata": {},
     "output_type": "display_data"
    },
    {
     "name": "stdout",
     "output_type": "stream",
     "text": [
      "\n"
     ]
    },
    {
     "data": {
      "image/png": "[encoded data removed]",
      "text/plain": [
       "<Figure size 432x288 with 1 Axes>"
      ]
     },
     "metadata": {},
     "output_type": "display_data"
    },
    {
     "name": "stdout",
     "output_type": "stream",
     "text": [
      "отвергаем нулевую гипотезу\n"
     ]
    },
    {
     "data": {
      "text/plain": [
       "{'quants':                 0\n",
       " 0.025 -578.936033\n",
       " 0.975 -394.815370,\n",
       " 'p_value': 4.7848186923480985e-25}"
      ]
     },
     "execution_count": 87,
     "metadata": {},
     "output_type": "execute_result"
    }
   ],
   "source": [
    "get_bootstrap(missing_out.revenue, data2[data2['revenue'] > 0].revenue) \n",
    "# посмотрим одинваковы средние чеки не попавших пользователей с пользователями приложения"
   ]
  },
  {
   "cell_type": "code",
   "execution_count": 88,
   "metadata": {},
   "outputs": [],
   "source": [
    "# здесь уже заметное различие в среднем чеке, между платящими покупателями в приложении и другими пользователями"
   ]
  },
  {
   "cell_type": "code",
   "execution_count": 89,
   "metadata": {},
   "outputs": [
    {
     "data": {
      "application/vnd.jupyter.widget-view+json": {
       "model_id": "c7db7be2a9ee4da08f9fe5a7f632543a",
       "version_major": 2,
       "version_minor": 0
      },
      "text/plain": [
       "HBox(children=(FloatProgress(value=0.0, max=1000.0), HTML(value='')))"
      ]
     },
     "metadata": {},
     "output_type": "display_data"
    },
    {
     "name": "stdout",
     "output_type": "stream",
     "text": [
      "\n"
     ]
    },
    {
     "data": {
      "image/png": "[encoded data removed]",
      "text/plain": [
       "<Figure size 432x288 with 1 Axes>"
      ]
     },
     "metadata": {},
     "output_type": "display_data"
    },
    {
     "name": "stdout",
     "output_type": "stream",
     "text": [
      "отвергаем нулевую гипотезу\n"
     ]
    },
    {
     "data": {
      "text/plain": [
       "{'quants':                 0\n",
       " 0.025 -637.195860\n",
       " 0.975 -442.723567,\n",
       " 'p_value': 3.1636001213275316e-27}"
      ]
     },
     "execution_count": 89,
     "metadata": {},
     "output_type": "execute_result"
    }
   ],
   "source": [
    "get_bootstrap(missing_out[missing_out['group'] == 'B'].revenue, \\\n",
    "              data2[(data2['group'] == 'B') & data2['revenue'] > 0 ].revenue) \n",
    "# посмотрим одинваковы ли средние чеки платящими пользователями приложения группы В и\n",
    "# пользователями той же группы, не совершавших покупки в приложении"
   ]
  },
  {
   "cell_type": "code",
   "execution_count": 90,
   "metadata": {},
   "outputs": [],
   "source": [
    "# разница есть"
   ]
  },
  {
   "cell_type": "code",
   "execution_count": 91,
   "metadata": {},
   "outputs": [
    {
     "data": {
      "application/vnd.jupyter.widget-view+json": {
       "model_id": "5de73da3659743c3b02ffa90933c8c05",
       "version_major": 2,
       "version_minor": 0
      },
      "text/plain": [
       "HBox(children=(FloatProgress(value=0.0, max=1000.0), HTML(value='')))"
      ]
     },
     "metadata": {},
     "output_type": "display_data"
    },
    {
     "name": "stdout",
     "output_type": "stream",
     "text": [
      "\n"
     ]
    },
    {
     "data": {
      "image/png": "[encoded data removed]",
      "text/plain": [
       "<Figure size 432x288 with 1 Axes>"
      ]
     },
     "metadata": {},
     "output_type": "display_data"
    },
    {
     "name": "stdout",
     "output_type": "stream",
     "text": [
      "отвергаем нулевую гипотезу\n"
     ]
    },
    {
     "data": {
      "text/plain": [
       "{'quants':                 0\n",
       " 0.025 -479.567949\n",
       " 0.975  -62.003205,\n",
       " 'p_value': 0.014708019276003669}"
      ]
     },
     "execution_count": 91,
     "metadata": {},
     "output_type": "execute_result"
    }
   ],
   "source": [
    "get_bootstrap(missing_out[missing_out['group'] == 'A'].revenue, \\\n",
    "              data2[(data2['group'] == 'A') & data2['revenue'] > 0 ].revenue) \n",
    "# посмотрим одинваковы ли средние чеки платящими пользователями приложения группы А и\n",
    "# пользователями той же группы, не совершавших покупки в приложении"
   ]
  },
  {
   "cell_type": "code",
   "execution_count": 92,
   "metadata": {},
   "outputs": [],
   "source": [
    "# Я предполагаю, что 149 пользователей сделали оплату в нашем приложении, не посещая его\n",
    "# Либо у нас ошибка в логировании. \n",
    "# Мы видим, что поведение этой группы статичстически отлично от поведения остальных пользователей\n",
    "# Их чеки в среднем меньше, чем у других пользователей\n",
    "# мы не будем их использовать в дальнейшем исследовании ибо они имеют другую модель поведения,\n",
    "# чем пользователи приложения\n",
    "# Можем только предположить, что на них не повлияло наше А/В тестирование"
   ]
  },
  {
   "cell_type": "code",
   "execution_count": 93,
   "metadata": {},
   "outputs": [
    {
     "data": {
      "text/plain": [
       "(array([0, 1, 2, 3, 4, 5, 6, 7]), <a list of 8 Text major ticklabel objects>)"
      ]
     },
     "execution_count": 93,
     "metadata": {},
     "output_type": "execute_result"
    },
    {
     "data": {
      "image/png": "[encoded data removed]",
      "text/plain": [
       "<Figure size 402.875x360 with 1 Axes>"
      ]
     },
     "metadata": {},
     "output_type": "display_data"
    }
   ],
   "source": [
    "x,y = 'segment', 'group'\n",
    "\n",
    "(data2\n",
    ".groupby(x)[y]\n",
    ".value_counts(normalize=True)\n",
    ".mul(100)\n",
    ".rename('percent')\n",
    ".reset_index()\n",
    ".pipe((sns.catplot,'data'), x=x,y='percent',hue=y,kind='bar'))\n",
    "plt.xticks(rotation=90)"
   ]
  },
  {
   "cell_type": "code",
   "execution_count": 94,
   "metadata": {},
   "outputs": [
    {
     "data": {
      "text/plain": [
       "(array([0, 1]), <a list of 2 Text major ticklabel objects>)"
      ]
     },
     "execution_count": 94,
     "metadata": {},
     "output_type": "execute_result"
    },
    {
     "data": {
      "image/png": "[encoded data removed]",
      "text/plain": [
       "<Figure size 402.875x360 with 1 Axes>"
      ]
     },
     "metadata": {},
     "output_type": "display_data"
    },
    {
     "data": {
      "image/png": "[encoded data removed]",
      "text/plain": [
       "<Figure size 402.875x360 with 1 Axes>"
      ]
     },
     "metadata": {},
     "output_type": "display_data"
    },
    {
     "data": {
      "image/png": "[encoded data removed]",
      "text/plain": [
       "<Figure size 402.875x360 with 1 Axes>"
      ]
     },
     "metadata": {},
     "output_type": "display_data"
    }
   ],
   "source": [
    "x,y = 'platform', 'group'\n",
    "\n",
    "(data2\n",
    ".groupby(x)[y]\n",
    ".value_counts(normalize=True)\n",
    ".mul(100)\n",
    ".rename('percent')\n",
    ".reset_index()\n",
    ".pipe((sns.catplot,'data'), x=x,y='percent',hue=y,kind='bar'))\n",
    "plt.xticks(rotation=90);\n",
    "\n",
    "x,y = 'sex', 'group'\n",
    "\n",
    "(data2\n",
    ".groupby(x)[y]\n",
    ".value_counts(normalize=True)\n",
    ".mul(100)\n",
    ".rename('percent')\n",
    ".reset_index()\n",
    ".pipe((sns.catplot,'data'), x=x,y='percent',hue=y,kind='bar'))\n",
    "plt.xticks(rotation=90);\n",
    "\n",
    "x,y = 'country', 'group'\n",
    "\n",
    "(data2\n",
    ".groupby(x)[y]\n",
    ".value_counts(normalize=True)\n",
    ".mul(100)\n",
    ".rename('percent')\n",
    ".reset_index()\n",
    ".pipe((sns.catplot,'data'), x=x,y='percent',hue=y,kind='bar'))\n",
    "plt.xticks(rotation=90)"
   ]
  },
  {
   "cell_type": "code",
   "execution_count": 95,
   "metadata": {},
   "outputs": [],
   "source": [
    "# смотрим, прошло ли сплитование правильно, в швеции больше людей попало в группу А, проверим \n",
    "# есть ли разница между поведением швецких пользователей и других пользователй"
   ]
  },
  {
   "cell_type": "code",
   "execution_count": 96,
   "metadata": {},
   "outputs": [
    {
     "data": {
      "text/plain": [
       "group\n",
       "A     35.0\n",
       "B    117.0\n",
       "Name: CR, dtype: float64"
      ]
     },
     "execution_count": 96,
     "metadata": {},
     "output_type": "execute_result"
    }
   ],
   "source": [
    "data2[data2['country'] == 'Sweden'].groupby('group').CR.sum()\n",
    "# посмотрели, что у нас достаточно наблюдений, чтобы провести ztest или хи-квадрат"
   ]
  },
  {
   "cell_type": "code",
   "execution_count": 143,
   "metadata": {},
   "outputs": [
    {
     "name": "stdout",
     "output_type": "stream",
     "text": [
      "1.9687601944157496\n",
      "0.16057952184231405\n",
      "принимаем нулевую гипотезу, что конверсия не зависит от страны\n",
      "принимаем нулевую гипотезу, что конверсия не зависит от страны\n"
     ]
    }
   ],
   "source": [
    "info1 = [data2[(data2['country'] == 'Sweden')].CR.sum(), \\\n",
    "         data2[(data2['country'] == 'Sweden')].CR.count()]\n",
    "         \n",
    "info2 = [data2[(data2['country'] != 'Sweden')].CR.sum(), \\\n",
    "         data2[(data2['country'] != 'Sweden')].CR.count()]\n",
    "\n",
    "info = [info1, info2]\n",
    "stat, p, dof, expected = chi2_contingency(info)\n",
    "print(stat)\n",
    "print(p)\n",
    "\n",
    "prob = 0.95\n",
    "critical = chi2.ppf(prob, dof)\n",
    "if abs(stat) >= critical:\n",
    "    print('отвергаем нулевую гипотезу, что конверсия не зависит от страны')\n",
    "else:\n",
    "    print('принимаем нулевую гипотезу, что конверсия не зависит от страны')\n",
    "    \n",
    "\n",
    "prob = 0.95\n",
    "alpha = 1.0 - prob\n",
    "if p <= alpha:\n",
    "    print('отвергаем нулевую гипотезу, что конверсия не зависит от страны')\n",
    "else:\n",
    "    print('принимаем нулевую гипотезу, что конверсия не зависит от страны')   "
   ]
  },
  {
   "cell_type": "code",
   "execution_count": 146,
   "metadata": {},
   "outputs": [
    {
     "name": "stdout",
     "output_type": "stream",
     "text": [
      "1.3034393090669916\n",
      "0.2535859486628833\n",
      "принимаем нулевую гипотезу, что конверсия в группе В не зависит от страны\n",
      "принимаем нулевую гипотезу, что конверсия в группе В не зависит от страны\n"
     ]
    }
   ],
   "source": [
    "info1 = [data2[(data2['country'] == 'Sweden') & (data2['group'] == 'B')].CR.sum(), \\\n",
    "         data2[(data2['country'] == 'Sweden') & (data2['group'] == 'B')].CR.count()]\n",
    "         \n",
    "info2 = [data2[(data2['country'] != 'Sweden') & (data2['group'] == 'B')].CR.sum(), \\\n",
    "         data2[(data2['country'] != 'Sweden') & (data2['group'] == 'B')].CR.count()]\n",
    "\n",
    "info = [info1, info2]\n",
    "stat, p, dof, expected = chi2_contingency(info)\n",
    "print(stat)\n",
    "print(p)\n",
    "\n",
    "prob = 0.95\n",
    "critical = chi2.ppf(prob, dof)\n",
    "if abs(stat) >= critical:\n",
    "    print('отвергаем нулевую гипотезу, что конверсия в группе В не зависит от страны')\n",
    "else:\n",
    "    print('принимаем нулевую гипотезу, что конверсия в группе В не зависит от страны')\n",
    "    \n",
    "\n",
    "prob = 0.95\n",
    "alpha = 1.0 - prob\n",
    "if p <= alpha:\n",
    "    print('отвергаем нулевую гипотезу, что конверсия в группе В не зависит от страны')\n",
    "else:\n",
    "    print('принимаем нулевую гипотезу, что конверсия в группе В не зависит от страны')  "
   ]
  },
  {
   "cell_type": "code",
   "execution_count": 147,
   "metadata": {},
   "outputs": [
    {
     "name": "stdout",
     "output_type": "stream",
     "text": [
      "0.41900020939393445\n",
      "0.517436342341873\n",
      "принимаем нулевую гипотезу, что конверсия в группе A не зависит от страны\n",
      "принимаем нулевую гипотезу, что конверсия в группе A не зависит от страны\n"
     ]
    }
   ],
   "source": [
    "info1 = [data2[(data2['country'] == 'Sweden') & (data2['group'] == 'A')].CR.sum(), \\\n",
    "         data2[(data2['country'] == 'Sweden') & (data2['group'] == 'A')].CR.count()]\n",
    "         \n",
    "info2 = [data2[(data2['country'] != 'Sweden') & (data2['group'] == 'A')].CR.sum(), \\\n",
    "         data2[(data2['country'] != 'Sweden') & (data2['group'] == 'A')].CR.count()]\n",
    "\n",
    "info = [info1, info2]\n",
    "stat, p, dof, expected = chi2_contingency(info)\n",
    "print(stat)\n",
    "print(p)\n",
    "\n",
    "prob = 0.95\n",
    "critical = chi2.ppf(prob, dof)\n",
    "if abs(stat) >= critical:\n",
    "    print('отвергаем нулевую гипотезу, что конверсия в группе A не зависит от страны')\n",
    "else:\n",
    "    print('принимаем нулевую гипотезу, что конверсия в группе A не зависит от страны')\n",
    "    \n",
    "\n",
    "prob = 0.95\n",
    "alpha = 1.0 - prob\n",
    "if p <= alpha:\n",
    "    print('отвергаем нулевую гипотезу, что конверсия в группе A не зависит от страны')\n",
    "else:\n",
    "    print('принимаем нулевую гипотезу, что конверсия в группе A не зависит от страны')  "
   ]
  },
  {
   "cell_type": "code",
   "execution_count": 148,
   "metadata": {
    "scrolled": false
   },
   "outputs": [
    {
     "name": "stderr",
     "output_type": "stream",
     "text": [
      "/opt/tljh/user/lib/python3.7/site-packages/seaborn/distributions.py:2557: FutureWarning: `distplot` is a deprecated function and will be removed in a future version. Please adapt your code to use either `displot` (a figure-level function with similar flexibility) or `histplot` (an axes-level function for histograms).\n",
      "  warnings.warn(msg, FutureWarning)\n"
     ]
    },
    {
     "data": {
      "text/plain": [
       "<matplotlib.axes._subplots.AxesSubplot at 0x7faabdc927f0>"
      ]
     },
     "execution_count": 148,
     "metadata": {},
     "output_type": "execute_result"
    },
    {
     "data": {
      "image/png": "[encoded data removed]",
      "text/plain": [
       "<Figure size 432x288 with 1 Axes>"
      ]
     },
     "metadata": {},
     "output_type": "display_data"
    }
   ],
   "source": [
    "sns.distplot(data2.revenue, kde=False)  # посмотрели, нормальное ли распределение"
   ]
  },
  {
   "cell_type": "code",
   "execution_count": 149,
   "metadata": {
    "scrolled": false
   },
   "outputs": [
    {
     "data": {
      "text/plain": [
       "<matplotlib.axes._subplots.AxesSubplot at 0x7faabdc51eb8>"
      ]
     },
     "execution_count": 149,
     "metadata": {},
     "output_type": "execute_result"
    },
    {
     "data": {
      "image/png": "[encoded data removed]",
      "text/plain": [
       "<Figure size 432x288 with 1 Axes>"
      ]
     },
     "metadata": {},
     "output_type": "display_data"
    }
   ],
   "source": [
    "sns.distplot(data2[data2['group'] == 'A'].revenue, kde=False)"
   ]
  },
  {
   "cell_type": "code",
   "execution_count": 150,
   "metadata": {
    "scrolled": true
   },
   "outputs": [
    {
     "data": {
      "text/plain": [
       "<matplotlib.axes._subplots.AxesSubplot at 0x7faaa1548908>"
      ]
     },
     "execution_count": 150,
     "metadata": {},
     "output_type": "execute_result"
    },
    {
     "data": {
      "image/png": "[encoded data removed]",
      "text/plain": [
       "<Figure size 432x288 with 1 Axes>"
      ]
     },
     "metadata": {},
     "output_type": "display_data"
    }
   ],
   "source": [
    "sns.distplot(data2[data2['group'] == 'B'].revenue, kde=False)"
   ]
  },
  {
   "cell_type": "code",
   "execution_count": 151,
   "metadata": {
    "scrolled": false
   },
   "outputs": [
    {
     "data": {
      "text/plain": [
       "<matplotlib.axes._subplots.AxesSubplot at 0x7faabe4206a0>"
      ]
     },
     "execution_count": 151,
     "metadata": {},
     "output_type": "execute_result"
    },
    {
     "data": {
      "image/png": "[encoded data removed]",
      "text/plain": [
       "<Figure size 432x288 with 1 Axes>"
      ]
     },
     "metadata": {},
     "output_type": "display_data"
    }
   ],
   "source": [
    "sns.distplot(np.log2(data2.revenue + 1), kde=False)  # логарифмирование не помогает нормализовать распределение"
   ]
  },
  {
   "cell_type": "code",
   "execution_count": 152,
   "metadata": {},
   "outputs": [
    {
     "data": {
      "text/plain": [
       "<matplotlib.axes._subplots.AxesSubplot at 0x7faabf45f4a8>"
      ]
     },
     "execution_count": 152,
     "metadata": {},
     "output_type": "execute_result"
    },
    {
     "data": {
      "image/png": "[encoded data removed]",
      "text/plain": [
       "<Figure size 432x288 with 1 Axes>"
      ]
     },
     "metadata": {},
     "output_type": "display_data"
    }
   ],
   "source": [
    "sns.boxplot(x=\"group\", y=\"revenue\", data=data2[(data2['CR'] == 1)])  # посмотрели на выбросы, они не такие большие."
   ]
  },
  {
   "cell_type": "code",
   "execution_count": 153,
   "metadata": {},
   "outputs": [],
   "source": [
    "# так как распределение не нормальное, воспользуемся бустрапом"
   ]
  },
  {
   "cell_type": "code",
   "execution_count": 154,
   "metadata": {},
   "outputs": [
    {
     "data": {
      "application/vnd.jupyter.widget-view+json": {
       "model_id": "f78691a7eafa4f3899864328ab9391f9",
       "version_major": 2,
       "version_minor": 0
      },
      "text/plain": [
       "HBox(children=(FloatProgress(value=0.0, max=1000.0), HTML(value='')))"
      ]
     },
     "metadata": {},
     "output_type": "display_data"
    },
    {
     "name": "stdout",
     "output_type": "stream",
     "text": [
      "\n"
     ]
    },
    {
     "data": {
      "image/png": "[encoded data removed]",
      "text/plain": [
       "<Figure size 432x288 with 1 Axes>"
      ]
     },
     "metadata": {},
     "output_type": "display_data"
    },
    {
     "name": "stdout",
     "output_type": "stream",
     "text": [
      "отвергаем нулевую гипотезу\n"
     ]
    },
    {
     "data": {
      "text/plain": [
       "{'quants':                0\n",
       " 0.025   4.709895\n",
       " 0.975  27.738996,\n",
       " 'p_value': 0.005978637324351899}"
      ]
     },
     "execution_count": 154,
     "metadata": {},
     "output_type": "execute_result"
    }
   ],
   "source": [
    "get_bootstrap(data2[data2['country'] == 'Sweden'].revenue, data2[data2['country'] != 'Sweden'].revenue) \n",
    "# одинаков ли средний чек пользователей в Швеции и других стран"
   ]
  },
  {
   "cell_type": "code",
   "execution_count": 155,
   "metadata": {},
   "outputs": [
    {
     "data": {
      "application/vnd.jupyter.widget-view+json": {
       "model_id": "d2d9a27000c74e3cad653f1ffd573a9f",
       "version_major": 2,
       "version_minor": 0
      },
      "text/plain": [
       "HBox(children=(FloatProgress(value=0.0, max=1000.0), HTML(value='')))"
      ]
     },
     "metadata": {},
     "output_type": "display_data"
    },
    {
     "name": "stdout",
     "output_type": "stream",
     "text": [
      "\n"
     ]
    },
    {
     "data": {
      "image/png": "[encoded data removed]",
      "text/plain": [
       "<Figure size 432x288 with 1 Axes>"
      ]
     },
     "metadata": {},
     "output_type": "display_data"
    },
    {
     "name": "stdout",
     "output_type": "stream",
     "text": [
      "отвергаем нулевую гипотезу\n"
     ]
    },
    {
     "data": {
      "text/plain": [
       "{'quants':                0\n",
       " 0.025   2.276636\n",
       " 0.975  28.039203,\n",
       " 'p_value': 0.025320194071588448}"
      ]
     },
     "execution_count": 155,
     "metadata": {},
     "output_type": "execute_result"
    }
   ],
   "source": [
    "get_bootstrap(data2[(data2['country'] == 'Sweden') & (data2['group'] == 'B')].revenue, data2[(data2['country'] != 'Sweden') & (data2['group'] == 'B')].revenue)\n",
    "# одинаков ли средний чек пользователей в Швеции и других стран в группе B"
   ]
  },
  {
   "cell_type": "code",
   "execution_count": 156,
   "metadata": {},
   "outputs": [
    {
     "data": {
      "application/vnd.jupyter.widget-view+json": {
       "model_id": "cc45fee6de77431e8424f75f192d27eb",
       "version_major": 2,
       "version_minor": 0
      },
      "text/plain": [
       "HBox(children=(FloatProgress(value=0.0, max=1000.0), HTML(value='')))"
      ]
     },
     "metadata": {},
     "output_type": "display_data"
    },
    {
     "name": "stdout",
     "output_type": "stream",
     "text": [
      "\n"
     ]
    },
    {
     "data": {
      "image/png": "[encoded data removed]",
      "text/plain": [
       "<Figure size 432x288 with 1 Axes>"
      ]
     },
     "metadata": {},
     "output_type": "display_data"
    },
    {
     "name": "stdout",
     "output_type": "stream",
     "text": [
      "принимаем нулевую гипотезу\n"
     ]
    },
    {
     "data": {
      "text/plain": [
       "{'quants':                0\n",
       " 0.025  -4.493825\n",
       " 0.975  50.966612,\n",
       " 'p_value': 0.12051839856177658}"
      ]
     },
     "execution_count": 156,
     "metadata": {},
     "output_type": "execute_result"
    }
   ],
   "source": [
    "get_bootstrap(data2[(data2['country'] == 'Sweden') & (data2['group'] == 'A')].revenue, data2[(data2['country'] != 'Sweden') & (data2['group'] == 'A')].revenue)\n",
    "# одинаков ли средний чек пользователей в Швеции и других стран в группе А"
   ]
  },
  {
   "cell_type": "code",
   "execution_count": 157,
   "metadata": {},
   "outputs": [
    {
     "data": {
      "text/plain": [
       "35.0"
      ]
     },
     "execution_count": 157,
     "metadata": {},
     "output_type": "execute_result"
    }
   ],
   "source": [
    "data2[(data2['country'] == 'Sweden') & (data2['group'] == 'A')].CR.sum()\n",
    "# посомтрели, что у нас достаточно много платящих пользователей из Швеции в контрольной группе, чтобы делать выводы"
   ]
  },
  {
   "cell_type": "code",
   "execution_count": 158,
   "metadata": {},
   "outputs": [],
   "source": [
    "# Мы видим, что Швеция отличается по поведению пользователей. В швеции группе B средний чек выше \n",
    "# чем у дургих пользователей, при не изменившемся переходе в платящие пользователи\n",
    "# при этом средний чек и переход в платящие пользователи в контрольной групе не изменился\n",
    "# Это дает понять, что сплитование на группы у нас прошло относительно нормально, но влияние на средний чек \n",
    "# нашего АВ теста в швеции оказалось большее чем в России"
   ]
  },
  {
   "cell_type": "code",
   "execution_count": 108,
   "metadata": {},
   "outputs": [
    {
     "data": {
      "text/plain": [
       "group\n",
       "A     78.0\n",
       "B    314.0\n",
       "Name: CR, dtype: float64"
      ]
     },
     "execution_count": 108,
     "metadata": {},
     "output_type": "execute_result"
    }
   ],
   "source": [
    "data2.groupby('group').CR.sum()  # посмотрели достаточно ли у нас платящих пользователей по группам,\n",
    "# чтобы можно проводить статистический анализ"
   ]
  },
  {
   "cell_type": "code",
   "execution_count": 159,
   "metadata": {},
   "outputs": [],
   "source": [
    "# Проверили CR двух груп - пользователей совершивших покупку деленое на всех пользователей"
   ]
  },
  {
   "cell_type": "code",
   "execution_count": 160,
   "metadata": {},
   "outputs": [
    {
     "data": {
      "text/plain": [
       "4.615610759958842"
      ]
     },
     "execution_count": 160,
     "metadata": {},
     "output_type": "execute_result"
    }
   ],
   "source": [
    "(data2[data2['group'] == 'B']['revenue'] != 0).sum() / data2[data2['group'] == 'B'].user_id.count() * 100"
   ]
  },
  {
   "cell_type": "code",
   "execution_count": 161,
   "metadata": {},
   "outputs": [
    {
     "data": {
      "text/plain": [
       "5.071521456436931"
      ]
     },
     "execution_count": 161,
     "metadata": {},
     "output_type": "execute_result"
    }
   ],
   "source": [
    "(data2[data2['group'] == 'A']['revenue'] != 0).sum() / data2[data2['group'] == 'A'].user_id.count() * 100"
   ]
  },
  {
   "cell_type": "code",
   "execution_count": 162,
   "metadata": {},
   "outputs": [],
   "source": [
    "# в группе А чуть больше конверсия в платящего пользователя\n",
    "# воспользуемся хиквадратом"
   ]
  },
  {
   "cell_type": "code",
   "execution_count": 165,
   "metadata": {},
   "outputs": [
    {
     "name": "stdout",
     "output_type": "stream",
     "text": [
      "0.43612258061018483\n",
      "0.5089998823014525\n",
      "принимаем нулевую гипотезу, что конверсия не зависит от группы\n",
      "принимаем нулевую гипотезу, что конверсия не зависит от группы\n"
     ]
    }
   ],
   "source": [
    "info1 = [data2[data2['group'] == 'A'].CR.sum(), \\\n",
    "         data2[data2['group'] == 'A'].CR.count()]\n",
    "         \n",
    "info2 = [data2[data2['group'] == 'B'].CR.sum(), \\\n",
    "         data2[data2['group'] == 'B'].CR.count()]\n",
    "\n",
    "info = [info1, info2]\n",
    "stat, p, dof, expected = chi2_contingency(info)\n",
    "print(stat)\n",
    "print(p)\n",
    "\n",
    "prob = 0.95\n",
    "critical = chi2.ppf(prob, dof)\n",
    "if abs(stat) >= critical:\n",
    "    print('отвергаем нулевую гипотезу, что конверсия не зависит от группы')\n",
    "else:\n",
    "    print('принимаем нулевую гипотезу, что конверсия не зависит от группы')\n",
    "    \n",
    "\n",
    "prob = 0.95\n",
    "alpha = 1.0 - prob\n",
    "if p <= alpha:\n",
    "    print('отвергаем нулевую гипотезу, что конверсия не зависит от группы')\n",
    "else:\n",
    "    print('принимаем нулевую гипотезу, что конверсия не зависит от группы')"
   ]
  },
  {
   "cell_type": "code",
   "execution_count": 115,
   "metadata": {},
   "outputs": [],
   "source": [
    "# Мы не можем утверждать, что новая фича значимо влияет на конверсию в покупку."
   ]
  },
  {
   "cell_type": "code",
   "execution_count": 166,
   "metadata": {},
   "outputs": [
    {
     "data": {
      "text/html": [
       "<div>\n",
       "<style scoped>\n",
       "    .dataframe tbody tr th:only-of-type {\n",
       "        vertical-align: middle;\n",
       "    }\n",
       "\n",
       "    .dataframe tbody tr th {\n",
       "        vertical-align: top;\n",
       "    }\n",
       "\n",
       "    .dataframe thead th {\n",
       "        text-align: right;\n",
       "    }\n",
       "</style>\n",
       "<table border=\"1\" class=\"dataframe\">\n",
       "  <thead>\n",
       "    <tr style=\"text-align: right;\">\n",
       "      <th></th>\n",
       "      <th>count</th>\n",
       "      <th>mean</th>\n",
       "      <th>std</th>\n",
       "      <th>min</th>\n",
       "      <th>25%</th>\n",
       "      <th>50%</th>\n",
       "      <th>75%</th>\n",
       "      <th>max</th>\n",
       "    </tr>\n",
       "    <tr>\n",
       "      <th>group</th>\n",
       "      <th></th>\n",
       "      <th></th>\n",
       "      <th></th>\n",
       "      <th></th>\n",
       "      <th></th>\n",
       "      <th></th>\n",
       "      <th></th>\n",
       "      <th></th>\n",
       "    </tr>\n",
       "  </thead>\n",
       "  <tbody>\n",
       "    <tr>\n",
       "      <th>A</th>\n",
       "      <td>78.0</td>\n",
       "      <td>943.564103</td>\n",
       "      <td>919.910874</td>\n",
       "      <td>208.0</td>\n",
       "      <td>300.0</td>\n",
       "      <td>596.0</td>\n",
       "      <td>1125.25</td>\n",
       "      <td>3671.0</td>\n",
       "    </tr>\n",
       "    <tr>\n",
       "      <th>B</th>\n",
       "      <td>314.0</td>\n",
       "      <td>1267.875796</td>\n",
       "      <td>790.857880</td>\n",
       "      <td>207.0</td>\n",
       "      <td>520.5</td>\n",
       "      <td>1151.0</td>\n",
       "      <td>1910.00</td>\n",
       "      <td>4660.0</td>\n",
       "    </tr>\n",
       "  </tbody>\n",
       "</table>\n",
       "</div>"
      ],
      "text/plain": [
       "       count         mean         std    min    25%     50%      75%     max\n",
       "group                                                                       \n",
       "A       78.0   943.564103  919.910874  208.0  300.0   596.0  1125.25  3671.0\n",
       "B      314.0  1267.875796  790.857880  207.0  520.5  1151.0  1910.00  4660.0"
      ]
     },
     "execution_count": 166,
     "metadata": {},
     "output_type": "execute_result"
    }
   ],
   "source": [
    "data2[data2['CR'] == 1].groupby('group').revenue.describe() \n",
    "# посмотрели как расперделились продажи среди платящих пользователей, видно\n",
    "# что почти все параметры кроме минимального чека выросли в группе В"
   ]
  },
  {
   "cell_type": "code",
   "execution_count": 167,
   "metadata": {},
   "outputs": [
    {
     "name": "stderr",
     "output_type": "stream",
     "text": [
      "/opt/tljh/user/lib/python3.7/site-packages/seaborn/distributions.py:2557: FutureWarning: `distplot` is a deprecated function and will be removed in a future version. Please adapt your code to use either `displot` (a figure-level function with similar flexibility) or `histplot` (an axes-level function for histograms).\n",
      "  warnings.warn(msg, FutureWarning)\n",
      "/opt/tljh/user/lib/python3.7/site-packages/seaborn/distributions.py:2557: FutureWarning: `distplot` is a deprecated function and will be removed in a future version. Please adapt your code to use either `displot` (a figure-level function with similar flexibility) or `histplot` (an axes-level function for histograms).\n",
      "  warnings.warn(msg, FutureWarning)\n"
     ]
    },
    {
     "data": {
      "image/png": "[encoded data removed]",
      "text/plain": [
       "<Figure size 432x288 with 1 Axes>"
      ]
     },
     "metadata": {},
     "output_type": "display_data"
    }
   ],
   "source": [
    "sns.distplot(data2[(data2['group'] == 'B') & (data2['revenue'] > 0)].revenue, kde=False); \\\n",
    "sns.distplot(data2[(data2['group'] == 'A') & data2['revenue'] > 0 ].revenue, kde=False);\n",
    "# посмотрим как выглядят наша чеки по группам"
   ]
  },
  {
   "cell_type": "code",
   "execution_count": 168,
   "metadata": {},
   "outputs": [],
   "source": [
    "# Так как распределение не нормальное воспользуемся бутстрапом для определения эффективности \n",
    "# новой фичи по среднему значению"
   ]
  },
  {
   "cell_type": "code",
   "execution_count": 169,
   "metadata": {},
   "outputs": [
    {
     "data": {
      "application/vnd.jupyter.widget-view+json": {
       "model_id": "e64551bff3d245eca7035ed42f8d3ffe",
       "version_major": 2,
       "version_minor": 0
      },
      "text/plain": [
       "HBox(children=(FloatProgress(value=0.0, max=1000.0), HTML(value='')))"
      ]
     },
     "metadata": {},
     "output_type": "display_data"
    },
    {
     "name": "stdout",
     "output_type": "stream",
     "text": [
      "\n"
     ]
    },
    {
     "data": {
      "image/png": "[encoded data removed]",
      "text/plain": [
       "<Figure size 432x288 with 1 Axes>"
      ]
     },
     "metadata": {},
     "output_type": "display_data"
    },
    {
     "name": "stdout",
     "output_type": "stream",
     "text": [
      "отвергаем нулевую гипотезу\n"
     ]
    },
    {
     "data": {
      "text/plain": [
       "{'quants':                0\n",
       " 0.025   0.791489\n",
       " 0.975  21.073442,\n",
       " 'p_value': 0.042152345672453774}"
      ]
     },
     "execution_count": 169,
     "metadata": {},
     "output_type": "execute_result"
    }
   ],
   "source": [
    "get_bootstrap(data2[data2['group'] == 'B'].revenue, data2[data2['group'] == 'A'].revenue) \n",
    "# одинаковы ли у нас средние чеки в разных группах"
   ]
  },
  {
   "cell_type": "code",
   "execution_count": 119,
   "metadata": {},
   "outputs": [],
   "source": [
    "# Бутcnрап по среднему показал, что средний чек группе B статистически значимо больше, чем в группе А"
   ]
  },
  {
   "cell_type": "code",
   "execution_count": 120,
   "metadata": {},
   "outputs": [],
   "source": [
    "# Проверим больше вариантов. Что если рассматривать только платящих пользователей.\n",
    "# Что если убрать выбросы(хотя их толком и нет, но давайте рассмотрим все варианты, может натолкнемся на инсайт)"
   ]
  },
  {
   "cell_type": "code",
   "execution_count": 170,
   "metadata": {},
   "outputs": [
    {
     "data": {
      "application/vnd.jupyter.widget-view+json": {
       "model_id": "b7e826b34807430f9dc927356cb5c5f8",
       "version_major": 2,
       "version_minor": 0
      },
      "text/plain": [
       "HBox(children=(FloatProgress(value=0.0, max=1000.0), HTML(value='')))"
      ]
     },
     "metadata": {},
     "output_type": "display_data"
    },
    {
     "name": "stdout",
     "output_type": "stream",
     "text": [
      "\n"
     ]
    },
    {
     "data": {
      "image/png": "[encoded data removed]",
      "text/plain": [
       "<Figure size 432x288 with 1 Axes>"
      ]
     },
     "metadata": {},
     "output_type": "display_data"
    },
    {
     "name": "stdout",
     "output_type": "stream",
     "text": [
      "отвергаем нулевую гипотезу\n"
     ]
    },
    {
     "data": {
      "text/plain": [
       "{'quants':                 0\n",
       " 0.025  186.047293\n",
       " 0.975  461.963774,\n",
       " 'p_value': 3.678837809861841e-06}"
      ]
     },
     "execution_count": 170,
     "metadata": {},
     "output_type": "execute_result"
    }
   ],
   "source": [
    "get_bootstrap(data2[(data2['group'] == 'B') & (data2['revenue'] != 0)].revenue, \n",
    "              data2[(data2['group'] == 'A') & (data2['revenue'] != 0)].revenue)\n",
    "# только платящие пользователи, одинаковые ли средние чеки"
   ]
  },
  {
   "cell_type": "code",
   "execution_count": null,
   "metadata": {},
   "outputs": [],
   "source": [
    "# средние чеки отличаются"
   ]
  },
  {
   "cell_type": "code",
   "execution_count": 307,
   "metadata": {
    "scrolled": true
   },
   "outputs": [],
   "source": [
    "# проверим есть ли какая разница в конверсиях в нашем тесте по всем сегментам"
   ]
  },
  {
   "cell_type": "code",
   "execution_count": 172,
   "metadata": {},
   "outputs": [],
   "source": [
    "# Посмотрим есть ли различия по выручке при сегментации наших пользователей"
   ]
  },
  {
   "cell_type": "code",
   "execution_count": 197,
   "metadata": {
    "scrolled": true
   },
   "outputs": [
    {
     "data": {
      "image/png": "[encoded data removed]",
      "text/plain": [
       "<Figure size 432x288 with 1 Axes>"
      ]
     },
     "metadata": {},
     "output_type": "display_data"
    }
   ],
   "source": [
    "s = sns.barplot(x=\"segment\", y='revenue', hue=\"group\", data=data2)\n",
    "for item in s.get_xticklabels():\n",
    "    item.set_rotation(75)"
   ]
  },
  {
   "cell_type": "code",
   "execution_count": 203,
   "metadata": {
    "scrolled": true
   },
   "outputs": [
    {
     "name": "stderr",
     "output_type": "stream",
     "text": [
      "/opt/tljh/user/lib/python3.7/site-packages/seaborn/distributions.py:2557: FutureWarning: `distplot` is a deprecated function and will be removed in a future version. Please adapt your code to use either `displot` (a figure-level function with similar flexibility) or `histplot` (an axes-level function for histograms).\n",
      "  warnings.warn(msg, FutureWarning)\n",
      "/opt/tljh/user/lib/python3.7/site-packages/seaborn/distributions.py:2557: FutureWarning: `distplot` is a deprecated function and will be removed in a future version. Please adapt your code to use either `displot` (a figure-level function with similar flexibility) or `histplot` (an axes-level function for histograms).\n",
      "  warnings.warn(msg, FutureWarning)\n"
     ]
    },
    {
     "data": {
      "image/png": "[encoded data removed]",
      "text/plain": [
       "<Figure size 432x288 with 1 Axes>"
      ]
     },
     "metadata": {},
     "output_type": "display_data"
    }
   ],
   "source": [
    "sns.distplot(data2[(data2['segment'] == 'Sweden android male') \\\n",
    "                   & (data2['group'] == 'A') \\\n",
    "                   & (data2['revenue'] > 0)].revenue, \\\n",
    "             kde=False);\\\n",
    "sns.distplot(data2[(data2['segment'] == 'Sweden android male') \\\n",
    "                   & (data2['group'] == 'B')\\\n",
    "                   & (data2['revenue'] > 0)].revenue,\\\n",
    "             kde=False);"
   ]
  },
  {
   "cell_type": "code",
   "execution_count": 176,
   "metadata": {},
   "outputs": [
    {
     "data": {
      "text/html": [
       "<div>\n",
       "<style scoped>\n",
       "    .dataframe tbody tr th:only-of-type {\n",
       "        vertical-align: middle;\n",
       "    }\n",
       "\n",
       "    .dataframe tbody tr th {\n",
       "        vertical-align: top;\n",
       "    }\n",
       "\n",
       "    .dataframe thead th {\n",
       "        text-align: right;\n",
       "    }\n",
       "</style>\n",
       "<table border=\"1\" class=\"dataframe\">\n",
       "  <thead>\n",
       "    <tr style=\"text-align: right;\">\n",
       "      <th></th>\n",
       "      <th></th>\n",
       "      <th>count</th>\n",
       "      <th>mean</th>\n",
       "      <th>std</th>\n",
       "      <th>min</th>\n",
       "      <th>25%</th>\n",
       "      <th>50%</th>\n",
       "      <th>75%</th>\n",
       "      <th>max</th>\n",
       "    </tr>\n",
       "    <tr>\n",
       "      <th>segment</th>\n",
       "      <th>group</th>\n",
       "      <th></th>\n",
       "      <th></th>\n",
       "      <th></th>\n",
       "      <th></th>\n",
       "      <th></th>\n",
       "      <th></th>\n",
       "      <th></th>\n",
       "      <th></th>\n",
       "    </tr>\n",
       "  </thead>\n",
       "  <tbody>\n",
       "    <tr>\n",
       "      <th rowspan=\"2\" valign=\"top\">Russia android female</th>\n",
       "      <th>A</th>\n",
       "      <td>11.0</td>\n",
       "      <td>843.636364</td>\n",
       "      <td>741.016906</td>\n",
       "      <td>298.0</td>\n",
       "      <td>445.50</td>\n",
       "      <td>593.0</td>\n",
       "      <td>925.50</td>\n",
       "      <td>2910.0</td>\n",
       "    </tr>\n",
       "    <tr>\n",
       "      <th>B</th>\n",
       "      <td>49.0</td>\n",
       "      <td>1352.306122</td>\n",
       "      <td>773.905685</td>\n",
       "      <td>208.0</td>\n",
       "      <td>599.00</td>\n",
       "      <td>1909.0</td>\n",
       "      <td>1910.00</td>\n",
       "      <td>2919.0</td>\n",
       "    </tr>\n",
       "    <tr>\n",
       "      <th rowspan=\"2\" valign=\"top\">Russia android male</th>\n",
       "      <th>A</th>\n",
       "      <td>8.0</td>\n",
       "      <td>547.750000</td>\n",
       "      <td>368.730932</td>\n",
       "      <td>208.0</td>\n",
       "      <td>275.50</td>\n",
       "      <td>449.5</td>\n",
       "      <td>699.50</td>\n",
       "      <td>1171.0</td>\n",
       "    </tr>\n",
       "    <tr>\n",
       "      <th>B</th>\n",
       "      <td>54.0</td>\n",
       "      <td>1206.351852</td>\n",
       "      <td>680.548479</td>\n",
       "      <td>208.0</td>\n",
       "      <td>592.50</td>\n",
       "      <td>1074.5</td>\n",
       "      <td>1909.00</td>\n",
       "      <td>1979.0</td>\n",
       "    </tr>\n",
       "    <tr>\n",
       "      <th rowspan=\"2\" valign=\"top\">Russia ios female</th>\n",
       "      <th>A</th>\n",
       "      <td>13.0</td>\n",
       "      <td>892.923077</td>\n",
       "      <td>828.729797</td>\n",
       "      <td>299.0</td>\n",
       "      <td>301.00</td>\n",
       "      <td>590.0</td>\n",
       "      <td>1169.00</td>\n",
       "      <td>2921.0</td>\n",
       "    </tr>\n",
       "    <tr>\n",
       "      <th>B</th>\n",
       "      <td>45.0</td>\n",
       "      <td>1325.111111</td>\n",
       "      <td>903.443720</td>\n",
       "      <td>209.0</td>\n",
       "      <td>408.00</td>\n",
       "      <td>1149.0</td>\n",
       "      <td>1910.00</td>\n",
       "      <td>3671.0</td>\n",
       "    </tr>\n",
       "    <tr>\n",
       "      <th rowspan=\"2\" valign=\"top\">Russia ios male</th>\n",
       "      <th>A</th>\n",
       "      <td>11.0</td>\n",
       "      <td>921.545455</td>\n",
       "      <td>1035.179633</td>\n",
       "      <td>208.0</td>\n",
       "      <td>300.00</td>\n",
       "      <td>590.0</td>\n",
       "      <td>1015.50</td>\n",
       "      <td>3669.0</td>\n",
       "    </tr>\n",
       "    <tr>\n",
       "      <th>B</th>\n",
       "      <td>49.0</td>\n",
       "      <td>987.877551</td>\n",
       "      <td>700.014513</td>\n",
       "      <td>207.0</td>\n",
       "      <td>300.00</td>\n",
       "      <td>998.0</td>\n",
       "      <td>1910.00</td>\n",
       "      <td>1912.0</td>\n",
       "    </tr>\n",
       "    <tr>\n",
       "      <th rowspan=\"2\" valign=\"top\">Sweden android female</th>\n",
       "      <th>A</th>\n",
       "      <td>6.0</td>\n",
       "      <td>690.833333</td>\n",
       "      <td>496.419748</td>\n",
       "      <td>300.0</td>\n",
       "      <td>301.00</td>\n",
       "      <td>575.5</td>\n",
       "      <td>850.75</td>\n",
       "      <td>1542.0</td>\n",
       "    </tr>\n",
       "    <tr>\n",
       "      <th>B</th>\n",
       "      <td>33.0</td>\n",
       "      <td>1149.272727</td>\n",
       "      <td>714.651019</td>\n",
       "      <td>208.0</td>\n",
       "      <td>301.00</td>\n",
       "      <td>1149.0</td>\n",
       "      <td>1910.00</td>\n",
       "      <td>1911.0</td>\n",
       "    </tr>\n",
       "    <tr>\n",
       "      <th rowspan=\"2\" valign=\"top\">Sweden android male</th>\n",
       "      <th>A</th>\n",
       "      <td>14.0</td>\n",
       "      <td>1577.928571</td>\n",
       "      <td>1242.048709</td>\n",
       "      <td>208.0</td>\n",
       "      <td>376.50</td>\n",
       "      <td>1272.0</td>\n",
       "      <td>2828.75</td>\n",
       "      <td>3671.0</td>\n",
       "    </tr>\n",
       "    <tr>\n",
       "      <th>B</th>\n",
       "      <td>33.0</td>\n",
       "      <td>1180.303030</td>\n",
       "      <td>733.136476</td>\n",
       "      <td>208.0</td>\n",
       "      <td>302.00</td>\n",
       "      <td>1002.0</td>\n",
       "      <td>1909.00</td>\n",
       "      <td>2110.0</td>\n",
       "    </tr>\n",
       "    <tr>\n",
       "      <th rowspan=\"2\" valign=\"top\">Sweden ios female</th>\n",
       "      <th>A</th>\n",
       "      <td>7.0</td>\n",
       "      <td>953.428571</td>\n",
       "      <td>1229.199720</td>\n",
       "      <td>208.0</td>\n",
       "      <td>299.50</td>\n",
       "      <td>498.0</td>\n",
       "      <td>849.50</td>\n",
       "      <td>3670.0</td>\n",
       "    </tr>\n",
       "    <tr>\n",
       "      <th>B</th>\n",
       "      <td>27.0</td>\n",
       "      <td>1747.962963</td>\n",
       "      <td>960.283471</td>\n",
       "      <td>210.0</td>\n",
       "      <td>1011.00</td>\n",
       "      <td>1909.0</td>\n",
       "      <td>1911.50</td>\n",
       "      <td>4660.0</td>\n",
       "    </tr>\n",
       "    <tr>\n",
       "      <th rowspan=\"2\" valign=\"top\">Sweden ios male</th>\n",
       "      <th>A</th>\n",
       "      <td>8.0</td>\n",
       "      <td>660.125000</td>\n",
       "      <td>438.323246</td>\n",
       "      <td>300.0</td>\n",
       "      <td>301.00</td>\n",
       "      <td>544.5</td>\n",
       "      <td>788.50</td>\n",
       "      <td>1540.0</td>\n",
       "    </tr>\n",
       "    <tr>\n",
       "      <th>B</th>\n",
       "      <td>24.0</td>\n",
       "      <td>1441.666667</td>\n",
       "      <td>760.767328</td>\n",
       "      <td>208.0</td>\n",
       "      <td>814.25</td>\n",
       "      <td>1909.0</td>\n",
       "      <td>1911.00</td>\n",
       "      <td>2901.0</td>\n",
       "    </tr>\n",
       "  </tbody>\n",
       "</table>\n",
       "</div>"
      ],
      "text/plain": [
       "                             count         mean          std    min      25%  \\\n",
       "segment               group                                                    \n",
       "Russia android female A       11.0   843.636364   741.016906  298.0   445.50   \n",
       "                      B       49.0  1352.306122   773.905685  208.0   599.00   \n",
       "Russia android male   A        8.0   547.750000   368.730932  208.0   275.50   \n",
       "                      B       54.0  1206.351852   680.548479  208.0   592.50   \n",
       "Russia ios female     A       13.0   892.923077   828.729797  299.0   301.00   \n",
       "                      B       45.0  1325.111111   903.443720  209.0   408.00   \n",
       "Russia ios male       A       11.0   921.545455  1035.179633  208.0   300.00   \n",
       "                      B       49.0   987.877551   700.014513  207.0   300.00   \n",
       "Sweden android female A        6.0   690.833333   496.419748  300.0   301.00   \n",
       "                      B       33.0  1149.272727   714.651019  208.0   301.00   \n",
       "Sweden android male   A       14.0  1577.928571  1242.048709  208.0   376.50   \n",
       "                      B       33.0  1180.303030   733.136476  208.0   302.00   \n",
       "Sweden ios female     A        7.0   953.428571  1229.199720  208.0   299.50   \n",
       "                      B       27.0  1747.962963   960.283471  210.0  1011.00   \n",
       "Sweden ios male       A        8.0   660.125000   438.323246  300.0   301.00   \n",
       "                      B       24.0  1441.666667   760.767328  208.0   814.25   \n",
       "\n",
       "                                50%      75%     max  \n",
       "segment               group                           \n",
       "Russia android female A       593.0   925.50  2910.0  \n",
       "                      B      1909.0  1910.00  2919.0  \n",
       "Russia android male   A       449.5   699.50  1171.0  \n",
       "                      B      1074.5  1909.00  1979.0  \n",
       "Russia ios female     A       590.0  1169.00  2921.0  \n",
       "                      B      1149.0  1910.00  3671.0  \n",
       "Russia ios male       A       590.0  1015.50  3669.0  \n",
       "                      B       998.0  1910.00  1912.0  \n",
       "Sweden android female A       575.5   850.75  1542.0  \n",
       "                      B      1149.0  1910.00  1911.0  \n",
       "Sweden android male   A      1272.0  2828.75  3671.0  \n",
       "                      B      1002.0  1909.00  2110.0  \n",
       "Sweden ios female     A       498.0   849.50  3670.0  \n",
       "                      B      1909.0  1911.50  4660.0  \n",
       "Sweden ios male       A       544.5   788.50  1540.0  \n",
       "                      B      1909.0  1911.00  2901.0  "
      ]
     },
     "execution_count": 176,
     "metadata": {},
     "output_type": "execute_result"
    }
   ],
   "source": [
    "data2[data2['CR'] == 1].groupby(['segment', 'group']).revenue.describe()"
   ]
  },
  {
   "cell_type": "code",
   "execution_count": 402,
   "metadata": {},
   "outputs": [],
   "source": [
    "# Мы увидели, что в Швеции заметно больше выручка у пользователей Андроида в группе А,\n",
    "# нам надо теперь оценить статистически ли значимы эти различия."
   ]
  },
  {
   "cell_type": "code",
   "execution_count": 191,
   "metadata": {},
   "outputs": [
    {
     "data": {
      "application/vnd.jupyter.widget-view+json": {
       "model_id": "332d645ca84c4c059ff4e306a9610709",
       "version_major": 2,
       "version_minor": 0
      },
      "text/plain": [
       "HBox(children=(FloatProgress(value=0.0, max=1000.0), HTML(value='')))"
      ]
     },
     "metadata": {},
     "output_type": "display_data"
    },
    {
     "name": "stdout",
     "output_type": "stream",
     "text": [
      "\n"
     ]
    },
    {
     "data": {
      "image/png": "[encoded data removed]",
      "text/plain": [
       "<Figure size 432x288 with 1 Axes>"
      ]
     },
     "metadata": {},
     "output_type": "display_data"
    },
    {
     "name": "stdout",
     "output_type": "stream",
     "text": [
      "отвергаем нулевую гипотезу\n"
     ]
    },
    {
     "data": {
      "text/plain": [
       "{'quants':                 0\n",
       " 0.025 -126.152589\n",
       " 0.975  -25.773532,\n",
       " 'p_value': 0.002383192959032471}"
      ]
     },
     "execution_count": 191,
     "metadata": {},
     "output_type": "execute_result"
    }
   ],
   "source": [
    "    get_bootstrap(data2[(data2['segment'] == 'Sweden android male')  \\\n",
    "                                    & (data2['group'] == 'B')].revenue, \\\n",
    "                           data2[(data2['segment'] == 'Sweden android male') \\\n",
    "                                    & (data2['group'] == 'A')].revenue)\n",
    "        # одинаков ли средний чек в наших группах у мужчин в Швеции, пользующихся андроидом"
   ]
  },
  {
   "cell_type": "code",
   "execution_count": null,
   "metadata": {},
   "outputs": [],
   "source": [
    "# видно, что статистически занчимо отличаются. Здесь в группе В средний чек меньше"
   ]
  },
  {
   "cell_type": "code",
   "execution_count": 177,
   "metadata": {},
   "outputs": [
    {
     "data": {
      "text/plain": [
       "segment                group\n",
       "Russia android female  A        11.0\n",
       "                       B        49.0\n",
       "Russia android male    A         8.0\n",
       "                       B        54.0\n",
       "Russia ios female      A        13.0\n",
       "                       B        45.0\n",
       "Russia ios male        A        11.0\n",
       "                       B        49.0\n",
       "Sweden android female  A         6.0\n",
       "                       B        33.0\n",
       "Sweden android male    A        14.0\n",
       "                       B        33.0\n",
       "Sweden ios female      A         7.0\n",
       "                       B        27.0\n",
       "Sweden ios male        A         8.0\n",
       "                       B        24.0\n",
       "Name: CR, dtype: float64"
      ]
     },
     "execution_count": 177,
     "metadata": {},
     "output_type": "execute_result"
    }
   ],
   "source": [
    "data2.groupby(['segment','group']).CR.sum() \n",
    "# посмотрели, что данных достаточно для того чтобы попытаться статитстически оценить"
   ]
  },
  {
   "cell_type": "code",
   "execution_count": 178,
   "metadata": {},
   "outputs": [],
   "source": [
    "# Количество наблюдений >30 можно было бы восопользоваться ttest, \n",
    "# но будем острожны с интерпретацией https://youtu.be/-zps6hm0nX8?t=2308"
   ]
  },
  {
   "cell_type": "code",
   "execution_count": 179,
   "metadata": {},
   "outputs": [
    {
     "name": "stdout",
     "output_type": "stream",
     "text": [
      "0.020614604781472316\n",
      "отвергаем нулевую гипотезу, что в сегменте Sweden android male тест не повлиял на средний чек\n",
      "0.1873198307857641\n",
      "принимаем нулевую гипотезу, что в сегменте Sweden android female тест не повлиял на средний чек\n",
      "0.7721988747931634\n",
      "принимаем нулевую гипотезу, что в сегменте Russia ios female тест не повлиял на средний чек\n",
      "0.8193837429305708\n",
      "принимаем нулевую гипотезу, что в сегменте Russia ios male тест не повлиял на средний чек\n",
      "0.31482163698230214\n",
      "принимаем нулевую гипотезу, что в сегменте Russia android female тест не повлиял на средний чек\n",
      "0.06867028380775819\n",
      "принимаем нулевую гипотезу, что в сегменте Russia android male тест не повлиял на средний чек\n",
      "0.2484625580744915\n",
      "принимаем нулевую гипотезу, что в сегменте Sweden ios male тест не повлиял на средний чек\n",
      "0.21693808252817964\n",
      "принимаем нулевую гипотезу, что в сегменте Sweden ios female тест не повлиял на средний чек\n"
     ]
    }
   ],
   "source": [
    "for i in set(data2.segment):\n",
    "    \n",
    "    stat, p_value = stats.ttest_ind(data2[(data2['segment'] == i) \\\n",
    "                                    & (data2['group'] == 'B')].revenue, \\\n",
    "                           data2[(data2['segment'] == i) \\\n",
    "                                    & (data2['group'] == 'A')].revenue) \n",
    "    print(p_value)\n",
    "    if p_value<0.05:\n",
    "        print(f\"отвергаем нулевую гипотезу, что в сегменте {i} тест не повлиял на средний чек\")\n",
    "    else:\n",
    "        print(f\"принимаем нулевую гипотезу, что в сегменте {i} тест не повлиял на средний чек\")"
   ]
  },
  {
   "cell_type": "code",
   "execution_count": 180,
   "metadata": {},
   "outputs": [
    {
     "name": "stdout",
     "output_type": "stream",
     "text": [
      "0.07823363687743075\n",
      "принимаем нулевую гипотезу, что в сегменте Sweden android male тест не повлиял на средний чек\n",
      "0.47388462343638793\n",
      "принимаем нулевую гипотезу, что в сегменте Sweden android female тест не повлиял на средний чек\n",
      "0.09663603645769095\n",
      "принимаем нулевую гипотезу, что в сегменте Russia ios female тест не повлиял на средний чек\n",
      "0.9143618478208041\n",
      "принимаем нулевую гипотезу, что в сегменте Russia ios male тест не повлиял на средний чек\n",
      "0.9929736672251688\n",
      "принимаем нулевую гипотезу, что в сегменте Russia android female тест не повлиял на средний чек\n",
      "0.4525691846525963\n",
      "принимаем нулевую гипотезу, что в сегменте Russia android male тест не повлиял на средний чек\n",
      "0.8555290983020559\n",
      "принимаем нулевую гипотезу, что в сегменте Sweden ios male тест не повлиял на средний чек\n",
      "0.6995728989934811\n",
      "принимаем нулевую гипотезу, что в сегменте Sweden ios female тест не повлиял на средний чек\n"
     ]
    }
   ],
   "source": [
    "for i in set(data2.segment):\n",
    "    \n",
    "    stat, p_value = stats.mannwhitneyu(data2[(data2['segment'] == i) \\\n",
    "                                    & (data2['group'] == 'B')].revenue, \\\n",
    "                           data2[(data2['segment'] == i) \\\n",
    "                                    & (data2['group'] == 'A')].revenue) \n",
    "    print(p_value)\n",
    "    if p_value<0.05:\n",
    "        print(f\"отвергаем нулевую гипотезу, что в сегменте {i} тест не повлиял на средний чек\")\n",
    "    else:\n",
    "        print(f\"принимаем нулевую гипотезу, что в сегменте {i} тест не повлиял на средний чек\")"
   ]
  },
  {
   "cell_type": "code",
   "execution_count": 181,
   "metadata": {},
   "outputs": [],
   "source": [
    "# а теперь тоже самое проверим бустрэпом"
   ]
  },
  {
   "cell_type": "code",
   "execution_count": 182,
   "metadata": {},
   "outputs": [
    {
     "name": "stdout",
     "output_type": "stream",
     "text": [
      "Sweden android male\n"
     ]
    },
    {
     "data": {
      "application/vnd.jupyter.widget-view+json": {
       "model_id": "681c35e0ea0b4fba9521529cfba2f4ec",
       "version_major": 2,
       "version_minor": 0
      },
      "text/plain": [
       "HBox(children=(FloatProgress(value=0.0, max=1000.0), HTML(value='')))"
      ]
     },
     "metadata": {},
     "output_type": "display_data"
    },
    {
     "name": "stdout",
     "output_type": "stream",
     "text": [
      "\n"
     ]
    },
    {
     "data": {
      "image/png": "[encoded data removed]",
      "text/plain": [
       "<Figure size 432x288 with 1 Axes>"
      ]
     },
     "metadata": {},
     "output_type": "display_data"
    },
    {
     "name": "stdout",
     "output_type": "stream",
     "text": [
      "отвергаем нулевую гипотезу\n",
      "Sweden android female\n"
     ]
    },
    {
     "data": {
      "application/vnd.jupyter.widget-view+json": {
       "model_id": "ca9459d557ba4d858bb7ffb79fc638b3",
       "version_major": 2,
       "version_minor": 0
      },
      "text/plain": [
       "HBox(children=(FloatProgress(value=0.0, max=1000.0), HTML(value='')))"
      ]
     },
     "metadata": {},
     "output_type": "display_data"
    },
    {
     "name": "stdout",
     "output_type": "stream",
     "text": [
      "\n"
     ]
    },
    {
     "data": {
      "image/png": "[encoded data removed]",
      "text/plain": [
       "<Figure size 432x288 with 1 Axes>"
      ]
     },
     "metadata": {},
     "output_type": "display_data"
    },
    {
     "name": "stdout",
     "output_type": "stream",
     "text": [
      "отвергаем нулевую гипотезу\n",
      "Russia ios female\n"
     ]
    },
    {
     "data": {
      "application/vnd.jupyter.widget-view+json": {
       "model_id": "4bf348f8f0ad46bdbc07913a8062c805",
       "version_major": 2,
       "version_minor": 0
      },
      "text/plain": [
       "HBox(children=(FloatProgress(value=0.0, max=1000.0), HTML(value='')))"
      ]
     },
     "metadata": {},
     "output_type": "display_data"
    },
    {
     "name": "stdout",
     "output_type": "stream",
     "text": [
      "\n"
     ]
    },
    {
     "data": {
      "image/png": "[encoded data removed]",
      "text/plain": [
       "<Figure size 432x288 with 1 Axes>"
      ]
     },
     "metadata": {},
     "output_type": "display_data"
    },
    {
     "name": "stdout",
     "output_type": "stream",
     "text": [
      "принимаем нулевую гипотезу\n",
      "Russia ios male\n"
     ]
    },
    {
     "data": {
      "application/vnd.jupyter.widget-view+json": {
       "model_id": "92e5d4cd115546b8a2c50a313e813b17",
       "version_major": 2,
       "version_minor": 0
      },
      "text/plain": [
       "HBox(children=(FloatProgress(value=0.0, max=1000.0), HTML(value='')))"
      ]
     },
     "metadata": {},
     "output_type": "display_data"
    },
    {
     "name": "stdout",
     "output_type": "stream",
     "text": [
      "\n"
     ]
    },
    {
     "data": {
      "image/png": "[encoded data removed]",
      "text/plain": [
       "<Figure size 432x288 with 1 Axes>"
      ]
     },
     "metadata": {},
     "output_type": "display_data"
    },
    {
     "name": "stdout",
     "output_type": "stream",
     "text": [
      "принимаем нулевую гипотезу\n",
      "Russia android female\n"
     ]
    },
    {
     "data": {
      "application/vnd.jupyter.widget-view+json": {
       "model_id": "f76077ca3b7a4e77b74b87eac1282730",
       "version_major": 2,
       "version_minor": 0
      },
      "text/plain": [
       "HBox(children=(FloatProgress(value=0.0, max=1000.0), HTML(value='')))"
      ]
     },
     "metadata": {},
     "output_type": "display_data"
    },
    {
     "name": "stdout",
     "output_type": "stream",
     "text": [
      "\n"
     ]
    },
    {
     "data": {
      "image/png": "[encoded data removed]",
      "text/plain": [
       "<Figure size 432x288 with 1 Axes>"
      ]
     },
     "metadata": {},
     "output_type": "display_data"
    },
    {
     "name": "stdout",
     "output_type": "stream",
     "text": [
      "принимаем нулевую гипотезу\n",
      "Russia android male\n"
     ]
    },
    {
     "data": {
      "application/vnd.jupyter.widget-view+json": {
       "model_id": "1090c6d2e0e9465d9c97f6e06a0f4538",
       "version_major": 2,
       "version_minor": 0
      },
      "text/plain": [
       "HBox(children=(FloatProgress(value=0.0, max=1000.0), HTML(value='')))"
      ]
     },
     "metadata": {},
     "output_type": "display_data"
    },
    {
     "name": "stdout",
     "output_type": "stream",
     "text": [
      "\n"
     ]
    },
    {
     "data": {
      "image/png": "[encoded data removed]",
      "text/plain": [
       "<Figure size 432x288 with 1 Axes>"
      ]
     },
     "metadata": {},
     "output_type": "display_data"
    },
    {
     "name": "stdout",
     "output_type": "stream",
     "text": [
      "отвергаем нулевую гипотезу\n",
      "Sweden ios male\n"
     ]
    },
    {
     "data": {
      "application/vnd.jupyter.widget-view+json": {
       "model_id": "146b900bafeb4be99e2fb4e060e6cc05",
       "version_major": 2,
       "version_minor": 0
      },
      "text/plain": [
       "HBox(children=(FloatProgress(value=0.0, max=1000.0), HTML(value='')))"
      ]
     },
     "metadata": {},
     "output_type": "display_data"
    },
    {
     "name": "stdout",
     "output_type": "stream",
     "text": [
      "\n"
     ]
    },
    {
     "data": {
      "image/png": "[encoded data removed]",
      "text/plain": [
       "<Figure size 432x288 with 1 Axes>"
      ]
     },
     "metadata": {},
     "output_type": "display_data"
    },
    {
     "name": "stdout",
     "output_type": "stream",
     "text": [
      "отвергаем нулевую гипотезу\n",
      "Sweden ios female\n"
     ]
    },
    {
     "data": {
      "application/vnd.jupyter.widget-view+json": {
       "model_id": "2a53f4ca57ea40b990105872e81276c9",
       "version_major": 2,
       "version_minor": 0
      },
      "text/plain": [
       "HBox(children=(FloatProgress(value=0.0, max=1000.0), HTML(value='')))"
      ]
     },
     "metadata": {},
     "output_type": "display_data"
    },
    {
     "name": "stdout",
     "output_type": "stream",
     "text": [
      "\n"
     ]
    },
    {
     "data": {
      "image/png": "[encoded data removed]",
      "text/plain": [
       "<Figure size 432x288 with 1 Axes>"
      ]
     },
     "metadata": {},
     "output_type": "display_data"
    },
    {
     "name": "stdout",
     "output_type": "stream",
     "text": [
      "отвергаем нулевую гипотезу\n"
     ]
    }
   ],
   "source": [
    "for i in set(data2.segment):\n",
    "    print(i)\n",
    "    get_bootstrap(data2[(data2['segment'] == i) \\\n",
    "                                    & (data2['group'] == 'B')].revenue, \\\n",
    "                           data2[(data2['segment'] == i) \\\n",
    "                                    & (data2['group'] == 'A')].revenue)"
   ]
  },
  {
   "cell_type": "code",
   "execution_count": null,
   "metadata": {},
   "outputs": [],
   "source": [
    "Sweden android female\n",
    "Russia android male\n",
    "Sweden ios male\n",
    "Sweden ios female"
   ]
  },
  {
   "cell_type": "code",
   "execution_count": 183,
   "metadata": {},
   "outputs": [
    {
     "data": {
      "application/vnd.jupyter.widget-view+json": {
       "model_id": "bc8452aaaa3845cd9d02e6543ffe9462",
       "version_major": 2,
       "version_minor": 0
      },
      "text/plain": [
       "HBox(children=(FloatProgress(value=0.0, max=1000.0), HTML(value='')))"
      ]
     },
     "metadata": {},
     "output_type": "display_data"
    },
    {
     "name": "stdout",
     "output_type": "stream",
     "text": [
      "\n"
     ]
    },
    {
     "data": {
      "image/png": "[encoded data removed]",
      "text/plain": [
       "<Figure size 432x288 with 1 Axes>"
      ]
     },
     "metadata": {},
     "output_type": "display_data"
    },
    {
     "name": "stdout",
     "output_type": "stream",
     "text": [
      "принимаем нулевую гипотезу\n"
     ]
    },
    {
     "data": {
      "text/plain": [
       "{'quants':                0\n",
       " 0.025 -11.971255\n",
       " 0.975  17.162430,\n",
       " 'p_value': 0.8187920478725657}"
      ]
     },
     "execution_count": 183,
     "metadata": {},
     "output_type": "execute_result"
    }
   ],
   "source": [
    "\n",
    "    get_bootstrap(data2[(data2['sex'] == 'male')  \\\n",
    "                                    & (data2['group'] == 'B')].revenue, \\\n",
    "                           data2[(data2['sex'] == 'male') \\\n",
    "                                    & (data2['group'] == 'A')].revenue)\n",
    "    # одинаков ли средний чек в наших группах у мужчин"
   ]
  },
  {
   "cell_type": "code",
   "execution_count": 184,
   "metadata": {},
   "outputs": [
    {
     "data": {
      "application/vnd.jupyter.widget-view+json": {
       "model_id": "5e210c4e10a34f0188ffddd10c4d6954",
       "version_major": 2,
       "version_minor": 0
      },
      "text/plain": [
       "HBox(children=(FloatProgress(value=0.0, max=1000.0), HTML(value='')))"
      ]
     },
     "metadata": {},
     "output_type": "display_data"
    },
    {
     "name": "stdout",
     "output_type": "stream",
     "text": [
      "\n"
     ]
    },
    {
     "data": {
      "image/png": "[encoded data removed]",
      "text/plain": [
       "<Figure size 432x288 with 1 Axes>"
      ]
     },
     "metadata": {},
     "output_type": "display_data"
    },
    {
     "name": "stdout",
     "output_type": "stream",
     "text": [
      "отвергаем нулевую гипотезу\n"
     ]
    },
    {
     "data": {
      "text/plain": [
       "{'quants':                0\n",
       " 0.025   5.770091\n",
       " 0.975  34.597185,\n",
       " 'p_value': 0.005386778836982811}"
      ]
     },
     "execution_count": 184,
     "metadata": {},
     "output_type": "execute_result"
    }
   ],
   "source": [
    "\n",
    "    get_bootstrap(data2[(data2['sex'] == 'female')  \\\n",
    "                                    & (data2['group'] == 'B')].revenue, \\\n",
    "                           data2[(data2['sex'] == 'female') \\\n",
    "                                    & (data2['group'] == 'A')].revenue)\n",
    "        # одинаков ли средний чек в наших группах у женщин"
   ]
  },
  {
   "cell_type": "code",
   "execution_count": null,
   "metadata": {},
   "outputs": [],
   "source": [
    "# в группе у женщин В средний чек выше чем в группе А"
   ]
  },
  {
   "cell_type": "code",
   "execution_count": 185,
   "metadata": {},
   "outputs": [
    {
     "data": {
      "application/vnd.jupyter.widget-view+json": {
       "model_id": "ad903055d2ac4eaebffeb37f0649e683",
       "version_major": 2,
       "version_minor": 0
      },
      "text/plain": [
       "HBox(children=(FloatProgress(value=0.0, max=1000.0), HTML(value='')))"
      ]
     },
     "metadata": {},
     "output_type": "display_data"
    },
    {
     "name": "stdout",
     "output_type": "stream",
     "text": [
      "\n"
     ]
    },
    {
     "data": {
      "image/png": "[encoded data removed]",
      "text/plain": [
       "<Figure size 432x288 with 1 Axes>"
      ]
     },
     "metadata": {},
     "output_type": "display_data"
    },
    {
     "name": "stdout",
     "output_type": "stream",
     "text": [
      "принимаем нулевую гипотезу\n"
     ]
    },
    {
     "data": {
      "text/plain": [
       "{'quants':                0\n",
       " 0.025  -6.508410\n",
       " 0.975  20.103281,\n",
       " 'p_value': 0.306521720462435}"
      ]
     },
     "execution_count": 185,
     "metadata": {},
     "output_type": "execute_result"
    }
   ],
   "source": [
    "\n",
    "    get_bootstrap(data2[(data2['platform'] == 'android')  \\\n",
    "                                    & (data2['group'] == 'B')].revenue, \\\n",
    "                           data2[(data2['platform'] == 'android') \\\n",
    "                                    & (data2['group'] == 'A')].revenue)\n",
    "        # одинаков ли средний чек в наших группах у пользователей андроид"
   ]
  },
  {
   "cell_type": "code",
   "execution_count": 186,
   "metadata": {},
   "outputs": [
    {
     "data": {
      "application/vnd.jupyter.widget-view+json": {
       "model_id": "d58f61ae921b49028142482900de5849",
       "version_major": 2,
       "version_minor": 0
      },
      "text/plain": [
       "HBox(children=(FloatProgress(value=0.0, max=1000.0), HTML(value='')))"
      ]
     },
     "metadata": {},
     "output_type": "display_data"
    },
    {
     "name": "stdout",
     "output_type": "stream",
     "text": [
      "\n"
     ]
    },
    {
     "data": {
      "image/png": "[encoded data removed]",
      "text/plain": [
       "<Figure size 432x288 with 1 Axes>"
      ]
     },
     "metadata": {},
     "output_type": "display_data"
    },
    {
     "name": "stdout",
     "output_type": "stream",
     "text": [
      "принимаем нулевую гипотезу\n"
     ]
    },
    {
     "data": {
      "text/plain": [
       "{'quants':                0\n",
       " 0.025  -0.000597\n",
       " 0.975  29.577470,\n",
       " 'p_value': 0.05454264580961445}"
      ]
     },
     "execution_count": 186,
     "metadata": {},
     "output_type": "execute_result"
    }
   ],
   "source": [
    "\n",
    "    get_bootstrap(data2[(data2['platform'] == 'ios')  \\\n",
    "                                    & (data2['group'] == 'B')].revenue, \\\n",
    "                           data2[(data2['platform'] == 'ios') \\\n",
    "                                    & (data2['group'] == 'A')].revenue)\n",
    "     # одинаков ли средний чек в наших группах у пользователей ios"
   ]
  },
  {
   "cell_type": "code",
   "execution_count": 187,
   "metadata": {},
   "outputs": [
    {
     "data": {
      "application/vnd.jupyter.widget-view+json": {
       "model_id": "4956a1f38bf74e308a870f1ab09f1e1b",
       "version_major": 2,
       "version_minor": 0
      },
      "text/plain": [
       "HBox(children=(FloatProgress(value=0.0, max=1000.0), HTML(value='')))"
      ]
     },
     "metadata": {},
     "output_type": "display_data"
    },
    {
     "name": "stdout",
     "output_type": "stream",
     "text": [
      "\n"
     ]
    },
    {
     "data": {
      "image/png": "[encoded data removed]",
      "text/plain": [
       "<Figure size 432x288 with 1 Axes>"
      ]
     },
     "metadata": {},
     "output_type": "display_data"
    },
    {
     "name": "stdout",
     "output_type": "stream",
     "text": [
      "отвергаем нулевую гипотезу\n"
     ]
    },
    {
     "data": {
      "text/plain": [
       "{'quants':                0\n",
       " 0.025   4.107163\n",
       " 0.975  26.155337,\n",
       " 'p_value': 0.010355090038255686}"
      ]
     },
     "execution_count": 187,
     "metadata": {},
     "output_type": "execute_result"
    }
   ],
   "source": [
    "\n",
    "    get_bootstrap(data2[(data2['country'] == 'Russia')  \\\n",
    "                                    & (data2['group'] == 'B')].revenue, \\\n",
    "                           data2[(data2['country'] == 'Russia') \\\n",
    "                                    & (data2['group'] == 'A')].revenue)\n",
    "    # одинаков ли средний чек в наших группах у пользователей в России"
   ]
  },
  {
   "cell_type": "code",
   "execution_count": null,
   "metadata": {},
   "outputs": [],
   "source": [
    "# в  России в группе В средний чек выше чем в группе А"
   ]
  },
  {
   "cell_type": "code",
   "execution_count": 189,
   "metadata": {},
   "outputs": [
    {
     "data": {
      "application/vnd.jupyter.widget-view+json": {
       "model_id": "9465556867c94623a5602df509fd0206",
       "version_major": 2,
       "version_minor": 0
      },
      "text/plain": [
       "HBox(children=(FloatProgress(value=0.0, max=1000.0), HTML(value='')))"
      ]
     },
     "metadata": {},
     "output_type": "display_data"
    },
    {
     "name": "stdout",
     "output_type": "stream",
     "text": [
      "\n"
     ]
    },
    {
     "data": {
      "image/png": "[encoded data removed]",
      "text/plain": [
       "<Figure size 432x288 with 1 Axes>"
      ]
     },
     "metadata": {},
     "output_type": "display_data"
    },
    {
     "name": "stdout",
     "output_type": "stream",
     "text": [
      "принимаем нулевую гипотезу\n"
     ]
    },
    {
     "data": {
      "text/plain": [
       "{'quants':                0\n",
       " 0.025 -14.034617\n",
       " 0.975  27.606415,\n",
       " 'p_value': 0.46804329175215076}"
      ]
     },
     "execution_count": 189,
     "metadata": {},
     "output_type": "execute_result"
    }
   ],
   "source": [
    "    get_bootstrap(data2[(data2['country'] == 'Sweden')  \\\n",
    "                                    & (data2['group'] == 'B')].revenue, \\\n",
    "                           data2[(data2['country'] == 'Sweden') \\\n",
    "                                    & (data2['group'] == 'A')].revenue)\n",
    "        # одинаков ли средний чек в наших группах у пользователей в Швеции"
   ]
  },
  {
   "cell_type": "code",
   "execution_count": null,
   "metadata": {},
   "outputs": [],
   "source": [
    "# Мы видим, что Швеция отличается по поведению пользователей. В швеции группе B средний чек выше \n",
    "# чем у дургих пользователей, при не изменившемся переходе в платящие пользователи\n",
    "# при этом средний чек и переход в платящие пользователи в контрольной групе не изменился\n",
    "# Это дает понять, что сплитование на группы у нас прошло относительно нормально, но влияние на средний чек \n",
    "# нашего АВ теста в швеции оказалось большее чем в России"
   ]
  },
  {
   "cell_type": "code",
   "execution_count": null,
   "metadata": {},
   "outputs": [],
   "source": [
    "# Вывод\n",
    "# У нас есть149 пользователей не совершивгшие покупку в приложении и не попавших нормально в АВ тест,\n",
    "# у них другое поведение, чем у пользователей в приложении, их чеки меньше.\n",
    "# У них не наблюдается различия по поведению между А и В группой\n",
    "# У нас не равномерно разбиты на группы. В швеции,чуть больше людей попало в А группу\n",
    "# Мы проверили, что это не повлияло на конверсию и средний чек в контрольной группе, поэтому мы должны изучить \n",
    "# почему это произошло, но можем продолжить исследовать АВ тест\n",
    "\n",
    "# Из-за не нормлаьности распределения использовали бутстрап.\n",
    "# Даннные показывают, что в группе В статистически значимо выше средний чек чем в группе А,\n",
    "# при этом конверсия в покупателей статистически значимо не изменилась.\n",
    "# При этом для пользователей мужчин андроида из Швеции в группе А больше средний чек,\n",
    "# Но на это может влиять не большое количество больших чеков, в этой группе.\n",
    "\n",
    "# В целом тест показал положительный результат, но необходимо дальнейшее исследование\n",
    "# Нужно впервую очередь изучить почему такая большая разница в Швеции у мужчин.\n",
    "# Во вторых больше положительных изменений заметны у пользователей андроида и практически не очевидны у пользователей ios,\n",
    "# на это тоже стоит обратить внимание"
   ]
  },
  {
   "cell_type": "code",
   "execution_count": null,
   "metadata": {},
   "outputs": [],
   "source": [
    "# Задание 2"
   ]
  },
  {
   "cell_type": "code",
   "execution_count": null,
   "metadata": {},
   "outputs": [],
   "source": [
    "# По имеющимся данным мы можем собрать только дашборд показывающий конверсию пользователей, за время\n",
    "# проведения эксперимента\n",
    "\n",
    "# Вот не большой дашборд собранный из того что есть, чтобы дать общую информацию руководителю\n",
    "\n",
    "# https://public.tableau.com/app/profile/alex5716/viz/Project_4_16450285692970/Dashboard1?publish=yes"
   ]
  },
  {
   "cell_type": "code",
   "execution_count": null,
   "metadata": {},
   "outputs": [],
   "source": [
    "# В идеале на дашборде должно быть:\n",
    "\n",
    "# Впервую очередь на дашборде мы отразим изменеие DAU, WAU, MAU\n",
    "\n",
    "# Потом нам надо будет замерять в динамике действия пользователей в нашем приложении. Нам нужно изменение основных \n",
    "# действий пользователей в сумме и в среднем на одного пользователя, а так же смотреть CTR.\n",
    "\n",
    "# Следующий аспект это retention, churn rate, мы должны наблюдать динамику по ним.\n",
    "\n",
    "# Следующие аспект, который мы бы хотели учитывать, это источники трафика, откуда приходят наши пользователи, желательно \n",
    "# с разбивкой по тратам на привлечение, если таковая отслеживается, чтобы мы всегда видели эти траты.\n",
    "\n",
    "# Приэтом эти данные лучше для наглядности разбить на динамику по дням и динамику за последний период(неделя, месяц).\n",
    "\n",
    "\n",
    "# Я собирал уже подходящие дашборды для суимулятора в суперсете:\n",
    "    \n",
    "# https://superset.lab.karpov.courses/superset/dashboard/326/\n",
    "    \n",
    "# https://superset.lab.karpov.courses/superset/dashboard/325/"
   ]
  }
 ],
 "metadata": {
  "kernelspec": {
   "display_name": "Python 3",
   "language": "python",
   "name": "python3"
  },
  "language_info": {
   "codemirror_mode": {
    "name": "ipython",
    "version": 3
   },
   "file_extension": ".py",
   "mimetype": "text/x-python",
   "name": "python",
   "nbconvert_exporter": "python",
   "pygments_lexer": "ipython3",
   "version": "3.7.3"
  }
 },
 "nbformat": 4,
 "nbformat_minor": 4
}
